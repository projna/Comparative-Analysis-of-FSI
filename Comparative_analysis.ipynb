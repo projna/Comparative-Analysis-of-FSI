{
  "nbformat": 4,
  "nbformat_minor": 0,
  "metadata": {
    "colab": {
      "name": "Comparative analysis",
      "provenance": [],
      "collapsed_sections": [],
      "include_colab_link": true
    },
    "kernelspec": {
      "name": "python3",
      "display_name": "Python 3"
    },
    "language_info": {
      "name": "python"
    }
  },
  "cells": [
    {
      "cell_type": "markdown",
      "metadata": {
        "id": "view-in-github",
        "colab_type": "text"
      },
      "source": [
        "<a href=\"https://colab.research.google.com/github/projna/Comparative-Analysis-of-Food-Security-Indicators/blob/main/Comparative_analysis.ipynb\" target=\"_parent\"><img src=\"https://colab.research.google.com/assets/colab-badge.svg\" alt=\"Open In Colab\"/></a>"
      ]
    },
    {
      "cell_type": "markdown",
      "source": [
        "**Comparative Analysis of Food Security Indicators Across Canada Using Ontologies**"
      ],
      "metadata": {
        "id": "i0Xm4xzRoG8M"
      }
    },
    {
      "cell_type": "code",
      "source": [
        "#To stop python warnings, we have installed shutup\n",
        "!pip install shutup\n",
        "#Owlready2 is a module for ontology-oriented programming in Python 3. It can manage ontologies and knwoledge graphs, and includes an optimized RDF/OWL quadstore.\n",
        "!pip install owlready2\n",
        "!pip install pyvis\n",
        "from pyvis.network import Network\n",
        "from IPython.core.display import display, HTML\n",
        "import networkx as nx\n",
        "from owlready2 import *\n",
        "from posixpath import split\n",
        "import matplotlib.pyplot as plt\n",
        "from networkx.algorithms import isomorphism\n",
        "import pandas as pd\n",
        "import seaborn as sns\n"
      ],
      "metadata": {
        "id": "Wwfk5RmtnCip",
        "colab": {
          "base_uri": "https://localhost:8080/"
        },
        "outputId": "d62b38fb-7f23-4866-b798-0db3d3eec876"
      },
      "execution_count": null,
      "outputs": [
        {
          "output_type": "stream",
          "name": "stdout",
          "text": [
            "Looking in indexes: https://pypi.org/simple, https://us-python.pkg.dev/colab-wheels/public/simple/\n",
            "Collecting shutup\n",
            "  Downloading shutup-0.2.0-py3-none-any.whl (1.5 kB)\n",
            "Installing collected packages: shutup\n",
            "Successfully installed shutup-0.2.0\n",
            "Looking in indexes: https://pypi.org/simple, https://us-python.pkg.dev/colab-wheels/public/simple/\n",
            "Collecting owlready2\n",
            "  Downloading Owlready2-0.37.tar.gz (23.8 MB)\n",
            "\u001b[K     |████████████████████████████████| 23.8 MB 1.6 MB/s \n",
            "\u001b[?25hBuilding wheels for collected packages: owlready2\n",
            "  Building wheel for owlready2 (setup.py) ... \u001b[?25l\u001b[?25hdone\n",
            "  Created wheel for owlready2: filename=Owlready2-0.37-cp37-cp37m-linux_x86_64.whl size=20445997 sha256=0b25b93dbcb9a54f609fbec522ecdef181697e5cc4b6a01e0a0d54ef0cbaca75\n",
            "  Stored in directory: /root/.cache/pip/wheels/34/49/36/31062d59333455aa0cb4950141cab4945600ce61c26a44e9cd\n",
            "Successfully built owlready2\n",
            "Installing collected packages: owlready2\n",
            "Successfully installed owlready2-0.37\n",
            "Looking in indexes: https://pypi.org/simple, https://us-python.pkg.dev/colab-wheels/public/simple/\n",
            "Collecting pyvis\n",
            "  Downloading pyvis-0.2.1.tar.gz (21 kB)\n",
            "Requirement already satisfied: jinja2>=2.9.6 in /usr/local/lib/python3.7/dist-packages (from pyvis) (2.11.3)\n",
            "Requirement already satisfied: networkx>=1.11 in /usr/local/lib/python3.7/dist-packages (from pyvis) (2.6.3)\n",
            "Requirement already satisfied: ipython>=5.3.0 in /usr/local/lib/python3.7/dist-packages (from pyvis) (5.5.0)\n",
            "Collecting jsonpickle>=1.4.1\n",
            "  Downloading jsonpickle-2.2.0-py2.py3-none-any.whl (39 kB)\n",
            "Requirement already satisfied: pickleshare in /usr/local/lib/python3.7/dist-packages (from ipython>=5.3.0->pyvis) (0.7.5)\n",
            "Requirement already satisfied: simplegeneric>0.8 in /usr/local/lib/python3.7/dist-packages (from ipython>=5.3.0->pyvis) (0.8.1)\n",
            "Requirement already satisfied: prompt-toolkit<2.0.0,>=1.0.4 in /usr/local/lib/python3.7/dist-packages (from ipython>=5.3.0->pyvis) (1.0.18)\n",
            "Requirement already satisfied: decorator in /usr/local/lib/python3.7/dist-packages (from ipython>=5.3.0->pyvis) (4.4.2)\n",
            "Requirement already satisfied: pexpect in /usr/local/lib/python3.7/dist-packages (from ipython>=5.3.0->pyvis) (4.8.0)\n",
            "Requirement already satisfied: pygments in /usr/local/lib/python3.7/dist-packages (from ipython>=5.3.0->pyvis) (2.6.1)\n",
            "Requirement already satisfied: setuptools>=18.5 in /usr/local/lib/python3.7/dist-packages (from ipython>=5.3.0->pyvis) (57.4.0)\n",
            "Requirement already satisfied: traitlets>=4.2 in /usr/local/lib/python3.7/dist-packages (from ipython>=5.3.0->pyvis) (5.1.1)\n",
            "Requirement already satisfied: MarkupSafe>=0.23 in /usr/local/lib/python3.7/dist-packages (from jinja2>=2.9.6->pyvis) (2.0.1)\n",
            "Requirement already satisfied: importlib-metadata in /usr/local/lib/python3.7/dist-packages (from jsonpickle>=1.4.1->pyvis) (4.11.4)\n",
            "Requirement already satisfied: six>=1.9.0 in /usr/local/lib/python3.7/dist-packages (from prompt-toolkit<2.0.0,>=1.0.4->ipython>=5.3.0->pyvis) (1.15.0)\n",
            "Requirement already satisfied: wcwidth in /usr/local/lib/python3.7/dist-packages (from prompt-toolkit<2.0.0,>=1.0.4->ipython>=5.3.0->pyvis) (0.2.5)\n",
            "Requirement already satisfied: zipp>=0.5 in /usr/local/lib/python3.7/dist-packages (from importlib-metadata->jsonpickle>=1.4.1->pyvis) (3.8.0)\n",
            "Requirement already satisfied: typing-extensions>=3.6.4 in /usr/local/lib/python3.7/dist-packages (from importlib-metadata->jsonpickle>=1.4.1->pyvis) (4.2.0)\n",
            "Requirement already satisfied: ptyprocess>=0.5 in /usr/local/lib/python3.7/dist-packages (from pexpect->ipython>=5.3.0->pyvis) (0.7.0)\n",
            "Building wheels for collected packages: pyvis\n",
            "  Building wheel for pyvis (setup.py) ... \u001b[?25l\u001b[?25hdone\n",
            "  Created wheel for pyvis: filename=pyvis-0.2.1-py3-none-any.whl size=23688 sha256=4e17ed718796a9f0dde9f591a77e4c252ba3eec93917714fa574f56dbf3dbd1f\n",
            "  Stored in directory: /root/.cache/pip/wheels/2a/8f/04/6340d46afc74f59cc857a594ca1a2a14a1f4cbd4fd6c2e9306\n",
            "Successfully built pyvis\n",
            "Installing collected packages: jsonpickle, pyvis\n",
            "Successfully installed jsonpickle-2.2.0 pyvis-0.2.1\n"
          ]
        }
      ]
    },
    {
      "cell_type": "markdown",
      "source": [
        "**Loading Food Ontology**"
      ],
      "metadata": {
        "id": "jbJaL75nxnCW"
      }
    },
    {
      "cell_type": "code",
      "execution_count": null,
      "metadata": {
        "colab": {
          "base_uri": "https://localhost:8080/"
        },
        "id": "T0enqME1K2WN",
        "outputId": "0ffb9ce2-edd4-442e-8a6e-4262d5dbb749"
      },
      "outputs": [
        {
          "output_type": "stream",
          "name": "stderr",
          "text": [
            "* Owlready2 * WARNING: DataProperty http://www.w3.org/2006/time#hasXSDDuration belongs to more than one entity types: [owl.AnnotationProperty, owl.DatatypeProperty, Time.TimeOntologyDataProperty]; I'm trying to fix it...\n",
            "* Owlready2 * WARNING: ObjectProperty http://www.semanticweb.org/spo/spo-food#amountProvidedBy belongs to more than one entity types: [owl.AnnotationProperty, owl.ObjectProperty, downloadowl.spoObjectProperty]; I'm trying to fix it...\n",
            "* Owlready2 * WARNING: ObjectProperty http://www.semanticweb.org/spo/spo-food#defined_by belongs to more than one entity types: [owl.AnnotationProperty, owl.ObjectProperty, downloadowl.populationProperty]; I'm trying to fix it...\n",
            "* Owlready2 * WARNING: ObjectProperty http://www.semanticweb.org/spo/spo-food#distributedFor belongs to more than one entity types: [owl.AnnotationProperty, owl.ObjectProperty, downloadowl.spoObjectProperty]; I'm trying to fix it...\n",
            "* Owlready2 * WARNING: ObjectProperty http://www.semanticweb.org/spo/spo-food#distributedTo belongs to more than one entity types: [owl.AnnotationProperty, owl.ObjectProperty, downloadowl.spoObjectProperty]; I'm trying to fix it...\n",
            "* Owlready2 * WARNING: ObjectProperty http://www.semanticweb.org/spo/spo-food#for_Year belongs to more than one entity types: [owl.AnnotationProperty, owl.ObjectProperty, downloadowl.spoObjectProperty]; I'm trying to fix it...\n",
            "* Owlready2 * WARNING: ObjectProperty http://www.semanticweb.org/spo/spo-food#for_county belongs to more than one entity types: [owl.AnnotationProperty, owl.ObjectProperty, downloadowl.spoObjectProperty]; I'm trying to fix it...\n",
            "* Owlready2 * WARNING: ObjectProperty http://www.semanticweb.org/spo/spo-food#hasArea belongs to more than one entity types: [owl.AnnotationProperty, owl.ObjectProperty, downloadowl.spoObjectProperty]; I'm trying to fix it...\n",
            "* Owlready2 * WARNING: ObjectProperty http://www.semanticweb.org/spo/spo-food#hasFoodInsecurity belongs to more than one entity types: [owl.AnnotationProperty, owl.ObjectProperty, downloadowl.spoObjectProperty]; I'm trying to fix it...\n",
            "* Owlready2 * WARNING: ObjectProperty http://www.semanticweb.org/spo/spo-food#hasFoodProductionSize belongs to more than one entity types: [owl.AnnotationProperty, owl.ObjectProperty, downloadowl.spoObjectProperty]; I'm trying to fix it...\n",
            "* Owlready2 * WARNING: ObjectProperty http://www.semanticweb.org/spo/spo-food#hasFoodProductionValue belongs to more than one entity types: [owl.AnnotationProperty, owl.ObjectProperty, downloadowl.spoObjectProperty]; I'm trying to fix it...\n",
            "* Owlready2 * WARNING: ObjectProperty http://www.semanticweb.org/spo/spo-food#hasNumberOfDeliveries belongs to more than one entity types: [owl.AnnotationProperty, owl.ObjectProperty, downloadowl.spoObjectProperty]; I'm trying to fix it...\n",
            "* Owlready2 * WARNING: ObjectProperty http://www.semanticweb.org/spo/spo-food#hasNumberOfStudents belongs to more than one entity types: [owl.AnnotationProperty, owl.ObjectProperty, downloadowl.spoObjectProperty]; I'm trying to fix it...\n",
            "* Owlready2 * WARNING: DataProperty http://www.semanticweb.org/spo/spo-food#hasParticipant belongs to more than one entity types: [owl.AnnotationProperty, owl.ObjectProperty, owl.DatatypeProperty, downloadowl.spoObjectProperty, downloadowl.spoDataProperty]; I'm trying to fix it...\n",
            "* Owlready2 * WARNING: ObjectProperty http://www.semanticweb.org/spo/spo-food#hasSeedsDistributionSize belongs to more than one entity types: [owl.AnnotationProperty, owl.ObjectProperty, downloadowl.spoObjectProperty]; I'm trying to fix it...\n",
            "* Owlready2 * WARNING: ObjectProperty http://www.semanticweb.org/spo/spo-food#hasValueOfProducePurchase belongs to more than one entity types: [owl.AnnotationProperty, owl.ObjectProperty, downloadowl.spoObjectProperty]; I'm trying to fix it...\n",
            "* Owlready2 * WARNING: ObjectProperty http://www.semanticweb.org/spo/spo-food#hasWorkshopCount belongs to more than one entity types: [owl.AnnotationProperty, owl.ObjectProperty, downloadowl.spoObjectProperty]; I'm trying to fix it...\n",
            "* Owlready2 * WARNING: ObjectProperty http://www.semanticweb.org/spo/spo-food#organizedBy belongs to more than one entity types: [owl.AnnotationProperty, owl.ObjectProperty, downloadowl.spoObjectProperty]; I'm trying to fix it...\n",
            "* Owlready2 * WARNING: ObjectProperty http://www.semanticweb.org/spo/spo-food#totalAmountReceivedForProducePurchase belongs to more than one entity types: [owl.AnnotationProperty, owl.ObjectProperty, downloadowl.spoObjectProperty]; I'm trying to fix it...\n",
            "* Owlready2 * WARNING: DataProperty http://www.semanticweb.org/spo/spo-food#isFree belongs to more than one entity types: [owl.AnnotationProperty, owl.DatatypeProperty, downloadowl.spoDataProperty]; I'm trying to fix it...\n"
          ]
        },
        {
          "output_type": "execute_result",
          "data": {
            "text/plain": [
              "get_ontology(\"http://www.semanticweb.org/spo/spo-food#\")"
            ]
          },
          "metadata": {},
          "execution_count": 2
        }
      ],
      "source": [
        "# onto = get_ontology(\"/content/spo-food.owl\")\n",
        "onto=get_ontology(\"https://indicatorcomparision.pythonanywhere.com/downloadowl\")\n",
        "onto.load()"
      ]
    },
    {
      "cell_type": "markdown",
      "source": [
        "**Extracting the baseurl**"
      ],
      "metadata": {
        "id": "B-wMb70Bx40H"
      }
    },
    {
      "cell_type": "code",
      "source": [
        "baseurl=onto.get_base_iri()\n",
        "baseurl=baseurl.split('#')[0]\n",
        "baseurl"
      ],
      "metadata": {
        "colab": {
          "base_uri": "https://localhost:8080/",
          "height": 35
        },
        "id": "WkLzjdcZEtLd",
        "outputId": "c3d9d023-9d02-444c-c179-7b7fd992c41f"
      },
      "execution_count": null,
      "outputs": [
        {
          "output_type": "execute_result",
          "data": {
            "text/plain": [
              "'http://www.semanticweb.org/spo/spo-food'"
            ],
            "application/vnd.google.colaboratory.intrinsic+json": {
              "type": "string"
            }
          },
          "metadata": {},
          "execution_count": 3
        }
      ]
    },
    {
      "cell_type": "markdown",
      "source": [
        "**Comparative Analysis**\n",
        "Taking two indicators to compare the analysis:"
      ],
      "metadata": {
        "id": "1rd_HuzbyV68"
      }
    },
    {
      "cell_type": "markdown",
      "source": [
        "Indicator List:\n",
        "\n",
        "1. Percentage of people in food insecurity group\n",
        "2. Number of people who came to our free breakfast programs \n",
        "3. Number of children fed\n",
        "4. Number of food hampers distributed in a month\n",
        "5. How many families attending food programs to learn to cook\n",
        "6. Number of meals served in a month\n",
        "7. People taught in Community Kitchens annually\n",
        "8. Number of students taught through the school garden program annually\n",
        "9. Value of food grown in community gardens\n",
        "10. Proceeds from produce purchased from the farm\n",
        "11. Value of funds paid to farmers\n",
        "12. Number of acres providing ecosystem services\n",
        "13. Increase in number of acres dedicated to program year to year\n",
        "14. Number of local food deliveries per region\n",
        "15. Number of seeds distributed to community garden members\n",
        "16. Number of community gardens in city and county\n"
      ],
      "metadata": {
        "id": "9mMCS1tgfrXp"
      }
    },
    {
      "cell_type": "code",
      "source": [
        "indicatorlist=['',\n",
        "               'Percentage of people in food insecurity group',\n",
        "               'Number of people who came to our free breakfast programs',\n",
        "               'Number of children fed',\n",
        "               'Number of food hampers distributed in a month',\n",
        "               'How many families attending food programs to learn to cook',\n",
        "               'Number of meals served in a month',\n",
        "               'People taught in Community Kitchens annually',\n",
        "               'Number of students taught through the school garden program annually',\n",
        "               'Value of food grown in community gardens',\n",
        "               'Proceeds from produce purchased from the farm',\n",
        "               'Value of funds paid to farmers',\n",
        "               'Increase in number of acres dedicated to program year to year',\n",
        "               'Number of local food deliveries per region',\n",
        "               'Number of seeds distributed to community garden members',\n",
        "               'Number of community gardens in city and county']"
      ],
      "metadata": {
        "id": "DhGkK36vBIYF"
      },
      "execution_count": null,
      "outputs": []
    },
    {
      "cell_type": "markdown",
      "source": [
        "**Indicator Input**"
      ],
      "metadata": {
        "id": "S0dkab-jy5kz"
      }
    },
    {
      "cell_type": "code",
      "source": [
        "# indicator1 = input(\"Enter first indicator: \")\n",
        "# indicator2 = input(\"Enter second indicator: \")\n",
        "indicator1=indicatorlist[1]\n",
        "indicator2=indicatorlist[2]"
      ],
      "metadata": {
        "id": "VFAY4RqjJhxM"
      },
      "execution_count": null,
      "outputs": []
    },
    {
      "cell_type": "markdown",
      "source": [
        "**Searching the inputs in the ontology**"
      ],
      "metadata": {
        "id": "RSBmJfBJEeyU"
      }
    },
    {
      "cell_type": "code",
      "source": [
        "if(onto.search(comment = indicator1)):\n",
        "  indicator1Class = onto.search(comment = indicator1)\n",
        "  print(indicator1Class)\n",
        "if(onto.search(comment = indicator2)):\n",
        "  indicator2Class = onto.search(comment = indicator2)\n",
        "  print(indicator2Class)\n",
        "else:\n",
        "  print(\"Not found\")\n"
      ],
      "metadata": {
        "id": "41twH09GLPPN",
        "colab": {
          "base_uri": "https://localhost:8080/"
        },
        "outputId": "c843fe6f-9fc2-446d-b5e8-bd7a57827c42"
      },
      "execution_count": null,
      "outputs": [
        {
          "output_type": "stream",
          "name": "stdout",
          "text": [
            "[downloadowl.Spo_1_Percentage_Of_People_In_Food_Insecurity_Group]\n",
            "[downloadowl.Spo_2_Number_Of_People_Who_Came_To_Our_Free_Breakfast_Programs]\n"
          ]
        }
      ]
    },
    {
      "cell_type": "markdown",
      "source": [
        "**If found, extract all the information associated with the given indicator** "
      ],
      "metadata": {
        "id": "oijs0kz0Ekcw"
      }
    },
    {
      "cell_type": "code",
      "source": [
        "for i in indicator1Class[0].is_a: print(i)\n",
        "for i in indicator2Class[0].is_a: print(i)"
      ],
      "metadata": {
        "colab": {
          "base_uri": "https://localhost:8080/"
        },
        "id": "4-jQSKNDFKNM",
        "outputId": "72343fc7-4d6f-4ab3-a62d-2787bd0ca0a3"
      },
      "execution_count": null,
      "outputs": [
        {
          "output_type": "stream",
          "name": "stdout",
          "text": [
            "iso21972.RatioIndicator\n",
            "downloadowl.SPO_1\n",
            "iso21972.unit_of_measure.value(downloadowl.Percent)\n",
            "iso21972.denominator.exactly(1, downloadowl.Country_Population)\n",
            "iso21972.numerator.exactly(1, downloadowl.Spo_1_Food_Insecure_Population_Sum)\n",
            "iso21972.SumIndicator\n",
            "downloadowl.SPO_2\n",
            "iso21972.value.only(iso21972.numerical_value.exactly(1, <class 'int'>))\n",
            "iso21972.parameter_of_var.value(downloadowl.numberOfPeopleParticipatedVar)\n",
            "iso21972.unit_of_measure.value(iso21972.population_cardinality_unit)\n",
            "govstat.sum_of.exactly(1, downloadowl.Spo_2_Participants_Of_Free_Breakfast_Program_Population)\n"
          ]
        }
      ]
    },
    {
      "cell_type": "markdown",
      "source": [
        "**Creating two graphs from given indicators**"
      ],
      "metadata": {
        "id": "xMAEhx1yE3Ia"
      }
    },
    {
      "cell_type": "code",
      "source": [
        "# Storing the class properties and cardinality of Indicator 1\n",
        "final1Graph=[]\n",
        "startingnodeForindicator1=\"\"\n",
        "startingnodeForindicator2=\"\"\n",
        "# Storing the class properties and cardinality of Indicator 2\n",
        "final2Graph=[]\n",
        "# This is the method for creating the list of properties classes and cardinality of indicators\n",
        "def graphlist(classname,finalGraph):\n",
        "  for i in classname.is_a:\n",
        "    if(type(i)==owlready2.class_construct.Restriction):\n",
        "      tempgraph=[]\n",
        "      tempgraph.append(classname)\n",
        "      tempgraph.append(i.property)\n",
        "      tempgraph.append(i.cardinality)\n",
        "      tempgraph.append(i.value)\n",
        "      tempgraph.append(classname)\n",
        "      finalGraph.append(tempgraph)\n",
        "      if(type(i.value)==owlready2.entity.ThingClass):\n",
        "        temp_iri=i.value.iri.split('#')\n",
        "        if(temp_iri[0]==baseurl):\n",
        "          graphlist(i.value,finalGraph)\n",
        "    else:\n",
        "      tempgraph=[]\n",
        "      tempgraph.append(classname)\n",
        "      tempgraph.append(\"subClassOf\")\n",
        "      tempgraph.append(\"NaN\")\n",
        "      tempgraph.append(i)\n",
        "      tempgraph.append(classname)\n",
        "      finalGraph.append(tempgraph)\n",
        "\n",
        "# Calling the function for both indicators\n",
        "graphlist(indicator1Class[0],final1Graph)\n",
        "graphlist(indicator2Class[0],final2Graph)\n",
        "#Printing the list of both indicators\n",
        "for graph in final1Graph:\n",
        "  print(graph)\n",
        "for graph in final2Graph:\n",
        "  print(graph)\n",
        "\n",
        "for graph in final1Graph:\n",
        "  startingnodeForindicator1=graph[0]\n",
        "  break\n",
        "for graph in final2Graph:\n",
        "  startingnodeForindicator2=graph[0]\n",
        "  break\n",
        "\n"
      ],
      "metadata": {
        "colab": {
          "base_uri": "https://localhost:8080/"
        },
        "id": "Li9BZXltFBha",
        "outputId": "63eecad7-9892-48c1-8ca5-fff00a3c734d"
      },
      "execution_count": null,
      "outputs": [
        {
          "output_type": "stream",
          "name": "stdout",
          "text": [
            "[downloadowl.Spo_1_Percentage_Of_People_In_Food_Insecurity_Group, 'subClassOf', 'NaN', iso21972.RatioIndicator, downloadowl.Spo_1_Percentage_Of_People_In_Food_Insecurity_Group]\n",
            "[downloadowl.Spo_1_Percentage_Of_People_In_Food_Insecurity_Group, 'subClassOf', 'NaN', downloadowl.SPO_1, downloadowl.Spo_1_Percentage_Of_People_In_Food_Insecurity_Group]\n",
            "[downloadowl.Spo_1_Percentage_Of_People_In_Food_Insecurity_Group, iso21972.unit_of_measure, None, downloadowl.Percent, downloadowl.Spo_1_Percentage_Of_People_In_Food_Insecurity_Group]\n",
            "[downloadowl.Percent, 'subClassOf', 'NaN', iso21972.Cardinality_unit, downloadowl.Percent]\n",
            "[downloadowl.Percent, 'subClassOf', 'NaN', downloadowl.SPOThing, downloadowl.Percent]\n",
            "[downloadowl.Spo_1_Percentage_Of_People_In_Food_Insecurity_Group, iso21972.denominator, 1, downloadowl.Country_Population, downloadowl.Spo_1_Percentage_Of_People_In_Food_Insecurity_Group]\n",
            "[downloadowl.Country_Population, 'subClassOf', 'NaN', govstat.Population, downloadowl.Country_Population]\n",
            "[downloadowl.Country_Population, iso21972.unit_of_measure, None, iso21972.population_cardinality_unit, downloadowl.Country_Population]\n",
            "[downloadowl.Country_Population, iso21972.defined_by, 1, cids.Person, downloadowl.Country_Population]\n",
            "[downloadowl.Country_Population, iso21972.located_in, 1, schema.org.Country, downloadowl.Country_Population]\n",
            "[downloadowl.Spo_1_Percentage_Of_People_In_Food_Insecurity_Group, iso21972.numerator, 1, downloadowl.Spo_1_Food_Insecure_Population_Sum, downloadowl.Spo_1_Percentage_Of_People_In_Food_Insecurity_Group]\n",
            "[downloadowl.Spo_1_Food_Insecure_Population_Sum, 'subClassOf', 'NaN', iso21972.SumIndicator, downloadowl.Spo_1_Food_Insecure_Population_Sum]\n",
            "[downloadowl.Spo_1_Food_Insecure_Population_Sum, 'subClassOf', 'NaN', downloadowl.SPO_1, downloadowl.Spo_1_Food_Insecure_Population_Sum]\n",
            "[downloadowl.Spo_1_Food_Insecure_Population_Sum, iso21972.value, None, iso21972.Measure & iso21972.numerical_value.exactly(1, <class 'int'>), downloadowl.Spo_1_Food_Insecure_Population_Sum]\n",
            "[downloadowl.Spo_1_Food_Insecure_Population_Sum, iso21972.parameter_of_var, None, downloadowl.foodInsecurePopulationVar, downloadowl.Spo_1_Food_Insecure_Population_Sum]\n",
            "[downloadowl.Spo_1_Food_Insecure_Population_Sum, iso21972.unit_of_measure, None, iso21972.population_cardinality_unit, downloadowl.Spo_1_Food_Insecure_Population_Sum]\n",
            "[downloadowl.Spo_1_Food_Insecure_Population_Sum, govstat.sum_of, 1, downloadowl.Spo_1_Food_Insecure_Population, downloadowl.Spo_1_Food_Insecure_Population_Sum]\n",
            "[downloadowl.Spo_1_Food_Insecure_Population, 'subClassOf', 'NaN', govstat.Population, downloadowl.Spo_1_Food_Insecure_Population]\n",
            "[downloadowl.Spo_1_Food_Insecure_Population, 'subClassOf', 'NaN', downloadowl.SPO_1, downloadowl.Spo_1_Food_Insecure_Population]\n",
            "[downloadowl.Spo_1_Food_Insecure_Population, iso21972.defined_by, 1, downloadowl.FoodInsecurePerson, downloadowl.Spo_1_Food_Insecure_Population]\n",
            "[downloadowl.FoodInsecurePerson, 'subClassOf', 'NaN', cids.Person, downloadowl.FoodInsecurePerson]\n",
            "[downloadowl.FoodInsecurePerson, 'subClassOf', 'NaN', downloadowl.SPOThing, downloadowl.FoodInsecurePerson]\n",
            "[downloadowl.FoodInsecurePerson, iso21972.for_time_interval, 1, time.DateTimeInterval, downloadowl.FoodInsecurePerson]\n",
            "[downloadowl.FoodInsecurePerson, downloadowl.hasFoodInsecurity, 1, downloadowl.FoodInsecurity, downloadowl.FoodInsecurePerson]\n",
            "[downloadowl.FoodInsecurity, 'subClassOf', 'NaN', downloadowl.FoodSecurity, downloadowl.FoodInsecurity]\n",
            "[downloadowl.FoodInsecurity, downloadowl.hasAmountOfFoodIntake, None, iso21972.Measure & iso21972.numerical_value.exactly(1, <class 'int'>), downloadowl.FoodInsecurity]\n",
            "[downloadowl.FoodInsecurity, iso21972.for_time_interval, 1, time.DateTimeInterval, downloadowl.FoodInsecurity]\n",
            "[downloadowl.FoodInsecurity, downloadowl.hasEatingPatternType, 1, downloadowl.DisruptiveEatingPattern, downloadowl.FoodInsecurity]\n",
            "[downloadowl.DisruptiveEatingPattern, 'subClassOf', 'NaN', COSMO.Disruptive, downloadowl.DisruptiveEatingPattern]\n",
            "[downloadowl.DisruptiveEatingPattern, 'subClassOf', 'NaN', downloadowl.SPOThing, downloadowl.DisruptiveEatingPattern]\n",
            "[downloadowl.FoodInsecurity, downloadowl.hasSeverityRank, 1, owl.Thing, downloadowl.FoodInsecurity]\n",
            "[downloadowl.FoodInsecurePerson, GenericProperties.hasName, 1, <class 'str'>, downloadowl.FoodInsecurePerson]\n",
            "[downloadowl.FoodInsecurePerson, cids.hasOccupation, 1, <class 'str'>, downloadowl.FoodInsecurePerson]\n",
            "[downloadowl.FoodInsecurePerson, cids.lowIncome, 1, <class 'bool'>, downloadowl.FoodInsecurePerson]\n",
            "[downloadowl.Spo_1_Food_Insecure_Population, iso21972.located_in, 1, schema.org.Country, downloadowl.Spo_1_Food_Insecure_Population]\n",
            "[downloadowl.Spo_2_Number_Of_People_Who_Came_To_Our_Free_Breakfast_Programs, 'subClassOf', 'NaN', iso21972.SumIndicator, downloadowl.Spo_2_Number_Of_People_Who_Came_To_Our_Free_Breakfast_Programs]\n",
            "[downloadowl.Spo_2_Number_Of_People_Who_Came_To_Our_Free_Breakfast_Programs, 'subClassOf', 'NaN', downloadowl.SPO_2, downloadowl.Spo_2_Number_Of_People_Who_Came_To_Our_Free_Breakfast_Programs]\n",
            "[downloadowl.Spo_2_Number_Of_People_Who_Came_To_Our_Free_Breakfast_Programs, iso21972.value, None, iso21972.numerical_value.exactly(1, <class 'int'>), downloadowl.Spo_2_Number_Of_People_Who_Came_To_Our_Free_Breakfast_Programs]\n",
            "[downloadowl.Spo_2_Number_Of_People_Who_Came_To_Our_Free_Breakfast_Programs, iso21972.parameter_of_var, None, downloadowl.numberOfPeopleParticipatedVar, downloadowl.Spo_2_Number_Of_People_Who_Came_To_Our_Free_Breakfast_Programs]\n",
            "[downloadowl.Spo_2_Number_Of_People_Who_Came_To_Our_Free_Breakfast_Programs, iso21972.unit_of_measure, None, iso21972.population_cardinality_unit, downloadowl.Spo_2_Number_Of_People_Who_Came_To_Our_Free_Breakfast_Programs]\n",
            "[downloadowl.Spo_2_Number_Of_People_Who_Came_To_Our_Free_Breakfast_Programs, govstat.sum_of, 1, downloadowl.Spo_2_Participants_Of_Free_Breakfast_Program_Population, downloadowl.Spo_2_Number_Of_People_Who_Came_To_Our_Free_Breakfast_Programs]\n",
            "[downloadowl.Spo_2_Participants_Of_Free_Breakfast_Program_Population, 'subClassOf', 'NaN', govstat.Population, downloadowl.Spo_2_Participants_Of_Free_Breakfast_Program_Population]\n",
            "[downloadowl.Spo_2_Participants_Of_Free_Breakfast_Program_Population, 'subClassOf', 'NaN', downloadowl.SPO_2, downloadowl.Spo_2_Participants_Of_Free_Breakfast_Program_Population]\n",
            "[downloadowl.Spo_2_Participants_Of_Free_Breakfast_Program_Population, iso21972.defined_by, 1, downloadowl.FreeBreakfastProgram, downloadowl.Spo_2_Participants_Of_Free_Breakfast_Program_Population]\n",
            "[downloadowl.FreeBreakfastProgram, 'subClassOf', 'NaN', dcmitype.Service, downloadowl.FreeBreakfastProgram]\n",
            "[downloadowl.FreeBreakfastProgram, 'subClassOf', 'NaN', downloadowl.SPOThing, downloadowl.FreeBreakfastProgram]\n",
            "[downloadowl.FreeBreakfastProgram, service.consumedBy, None, COSMO.Participant, downloadowl.FreeBreakfastProgram]\n",
            "[downloadowl.FreeBreakfastProgram, service.provides, None, COSMO.Breakfast, downloadowl.FreeBreakfastProgram]\n",
            "[downloadowl.FreeBreakfastProgram, downloadowl.organizedBy, None, cids.SocialPurposeOrganization, downloadowl.FreeBreakfastProgram]\n",
            "[downloadowl.FreeBreakfastProgram, iso21972.located_in, 1, schema.org.Country, downloadowl.FreeBreakfastProgram]\n",
            "[downloadowl.FreeBreakfastProgram, downloadowl.isFree, 1, <class 'bool'>, downloadowl.FreeBreakfastProgram]\n",
            "[downloadowl.FreeBreakfastProgram, time.year, 1, time.generalYear, downloadowl.FreeBreakfastProgram]\n",
            "[downloadowl.Spo_2_Participants_Of_Free_Breakfast_Program_Population, iso21972.located_in, 1, schema.org.Country, downloadowl.Spo_2_Participants_Of_Free_Breakfast_Program_Population]\n"
          ]
        }
      ]
    },
    {
      "cell_type": "markdown",
      "source": [
        "**Drawing two graphs**"
      ],
      "metadata": {
        "id": "Z7kHeXC51zGI"
      }
    },
    {
      "cell_type": "code",
      "source": [
        "def drawGraph(finalGraph,output,size,layout):\n",
        "  counter=0\n",
        "  net=Network('700px', '1100px',directed =True)\n",
        "  plt.figure(figsize=(size,size))\n",
        "  G = nx.DiGraph()\n",
        "  edge_lables={}\n",
        "  for lists in finalGraph:\n",
        "    if(not G.has_node(lists[0])):\n",
        "      G.add_node(lists[0])\n",
        "      net.add_node(str(lists[0]),label=str(lists[0]))\n",
        "      counter=counter+1\n",
        "    if(not G.has_node(lists[3])):\n",
        "      G.add_node(lists[3])\n",
        "      net.add_node(str(lists[3]),label=str(lists[3]))\n",
        "      counter=counter+1\n",
        "    if(not G.has_edge(lists[0],lists[3])):\n",
        "      G.add_edge(lists[0],lists[3],label=lists[1])\n",
        "      net.add_edge(str(lists[0]),str(lists[3]),label=str(lists[1]))\n",
        "  if(layout=='planar_layout'):\n",
        "    pos=nx.spectral_layout(G)\n",
        "  else:\n",
        "    pos=nx.circular_layout(G)\n",
        "  \n",
        "  net.toggle_physics(True)\n",
        "  net.show_buttons(filter_=['physics'])\n",
        "  net.show(output+'.html')\n",
        "  display(HTML(output+'.html'))\n",
        "  return G\n"
      ],
      "metadata": {
        "id": "9qjGpznEyVqL"
      },
      "execution_count": null,
      "outputs": []
    },
    {
      "cell_type": "code",
      "source": [
        "# First Indicator Graph\n",
        "firstindicatorGraph=drawGraph(final1Graph,\"Indicator1\",18,'')\n"
      ],
      "metadata": {
        "colab": {
          "base_uri": "https://localhost:8080/",
          "height": 1000
        },
        "id": "4r0-Snck-M9P",
        "outputId": "0ffa74d8-1002-45a5-d32b-99a55844548a"
      },
      "execution_count": null,
      "outputs": [
        {
          "output_type": "display_data",
          "data": {
            "text/plain": [
              "<IPython.core.display.HTML object>"
            ],
            "text/html": [
              "<html>\n",
              "<head>\n",
              "<link rel=\"stylesheet\" href=\"https://cdn.jsdelivr.net/npm/vis-network@latest/styles/vis-network.css\" type=\"text/css\" />\n",
              "<script type=\"text/javascript\" src=\"https://cdn.jsdelivr.net/npm/vis-network@latest/dist/vis-network.min.js\"> </script>\n",
              "<center>\n",
              "<h1></h1>\n",
              "</center>\n",
              "\n",
              "<!-- <link rel=\"stylesheet\" href=\"../node_modules/vis/dist/vis.min.css\" type=\"text/css\" />\n",
              "<script type=\"text/javascript\" src=\"../node_modules/vis/dist/vis.js\"> </script>-->\n",
              "\n",
              "<style type=\"text/css\">\n",
              "\n",
              "        #mynetwork {\n",
              "            width: 1100px;\n",
              "            height: 700px;\n",
              "            background-color: #ffffff;\n",
              "            border: 1px solid lightgray;\n",
              "            position: relative;\n",
              "            float: left;\n",
              "        }\n",
              "\n",
              "        \n",
              "\n",
              "        \n",
              "        #config {\n",
              "            float: left;\n",
              "            width: 400px;\n",
              "            height: 600px;\n",
              "        }\n",
              "        \n",
              "\n",
              "        \n",
              "</style>\n",
              "\n",
              "</head>\n",
              "\n",
              "<body>\n",
              "<div id = \"mynetwork\"></div>\n",
              "\n",
              "\n",
              "<div id = \"config\"></div>\n",
              "\n",
              "<script type=\"text/javascript\">\n",
              "\n",
              "    // initialize global variables.\n",
              "    var edges;\n",
              "    var nodes;\n",
              "    var network; \n",
              "    var container;\n",
              "    var options, data;\n",
              "\n",
              "    \n",
              "    // This method is responsible for drawing the graph, returns the drawn network\n",
              "    function drawGraph() {\n",
              "        var container = document.getElementById('mynetwork');\n",
              "        \n",
              "        \n",
              "\n",
              "        // parsing and collecting nodes and edges from the python\n",
              "        nodes = new vis.DataSet([{\"id\": \"downloadowl.Spo_1_Percentage_Of_People_In_Food_Insecurity_Group\", \"label\": \"downloadowl.Spo_1_Percentage_Of_People_In_Food_Insecurity_Group\", \"shape\": \"dot\"}, {\"id\": \"iso21972.RatioIndicator\", \"label\": \"iso21972.RatioIndicator\", \"shape\": \"dot\"}, {\"id\": \"downloadowl.SPO_1\", \"label\": \"downloadowl.SPO_1\", \"shape\": \"dot\"}, {\"id\": \"downloadowl.Percent\", \"label\": \"downloadowl.Percent\", \"shape\": \"dot\"}, {\"id\": \"iso21972.Cardinality_unit\", \"label\": \"iso21972.Cardinality_unit\", \"shape\": \"dot\"}, {\"id\": \"downloadowl.SPOThing\", \"label\": \"downloadowl.SPOThing\", \"shape\": \"dot\"}, {\"id\": \"downloadowl.Country_Population\", \"label\": \"downloadowl.Country_Population\", \"shape\": \"dot\"}, {\"id\": \"govstat.Population\", \"label\": \"govstat.Population\", \"shape\": \"dot\"}, {\"id\": \"iso21972.population_cardinality_unit\", \"label\": \"iso21972.population_cardinality_unit\", \"shape\": \"dot\"}, {\"id\": \"cids.Person\", \"label\": \"cids.Person\", \"shape\": \"dot\"}, {\"id\": \"schema.org.Country\", \"label\": \"schema.org.Country\", \"shape\": \"dot\"}, {\"id\": \"downloadowl.Spo_1_Food_Insecure_Population_Sum\", \"label\": \"downloadowl.Spo_1_Food_Insecure_Population_Sum\", \"shape\": \"dot\"}, {\"id\": \"iso21972.SumIndicator\", \"label\": \"iso21972.SumIndicator\", \"shape\": \"dot\"}, {\"id\": \"iso21972.Measure \\u0026 iso21972.numerical_value.exactly(1, \\u003cclass \\u0027int\\u0027\\u003e)\", \"label\": \"iso21972.Measure \\u0026 iso21972.numerical_value.exactly(1, \\u003cclass \\u0027int\\u0027\\u003e)\", \"shape\": \"dot\"}, {\"id\": \"downloadowl.foodInsecurePopulationVar\", \"label\": \"downloadowl.foodInsecurePopulationVar\", \"shape\": \"dot\"}, {\"id\": \"downloadowl.Spo_1_Food_Insecure_Population\", \"label\": \"downloadowl.Spo_1_Food_Insecure_Population\", \"shape\": \"dot\"}, {\"id\": \"downloadowl.FoodInsecurePerson\", \"label\": \"downloadowl.FoodInsecurePerson\", \"shape\": \"dot\"}, {\"id\": \"time.DateTimeInterval\", \"label\": \"time.DateTimeInterval\", \"shape\": \"dot\"}, {\"id\": \"downloadowl.FoodInsecurity\", \"label\": \"downloadowl.FoodInsecurity\", \"shape\": \"dot\"}, {\"id\": \"downloadowl.FoodSecurity\", \"label\": \"downloadowl.FoodSecurity\", \"shape\": \"dot\"}, {\"id\": \"downloadowl.DisruptiveEatingPattern\", \"label\": \"downloadowl.DisruptiveEatingPattern\", \"shape\": \"dot\"}, {\"id\": \"COSMO.Disruptive\", \"label\": \"COSMO.Disruptive\", \"shape\": \"dot\"}, {\"id\": \"owl.Thing\", \"label\": \"owl.Thing\", \"shape\": \"dot\"}, {\"id\": \"\\u003cclass \\u0027str\\u0027\\u003e\", \"label\": \"\\u003cclass \\u0027str\\u0027\\u003e\", \"shape\": \"dot\"}, {\"id\": \"\\u003cclass \\u0027bool\\u0027\\u003e\", \"label\": \"\\u003cclass \\u0027bool\\u0027\\u003e\", \"shape\": \"dot\"}]);\n",
              "        edges = new vis.DataSet([{\"arrows\": \"to\", \"from\": \"downloadowl.Spo_1_Percentage_Of_People_In_Food_Insecurity_Group\", \"label\": \"subClassOf\", \"to\": \"iso21972.RatioIndicator\"}, {\"arrows\": \"to\", \"from\": \"downloadowl.Spo_1_Percentage_Of_People_In_Food_Insecurity_Group\", \"label\": \"subClassOf\", \"to\": \"downloadowl.SPO_1\"}, {\"arrows\": \"to\", \"from\": \"downloadowl.Spo_1_Percentage_Of_People_In_Food_Insecurity_Group\", \"label\": \"iso21972.unit_of_measure\", \"to\": \"downloadowl.Percent\"}, {\"arrows\": \"to\", \"from\": \"downloadowl.Percent\", \"label\": \"subClassOf\", \"to\": \"iso21972.Cardinality_unit\"}, {\"arrows\": \"to\", \"from\": \"downloadowl.Percent\", \"label\": \"subClassOf\", \"to\": \"downloadowl.SPOThing\"}, {\"arrows\": \"to\", \"from\": \"downloadowl.Spo_1_Percentage_Of_People_In_Food_Insecurity_Group\", \"label\": \"iso21972.denominator\", \"to\": \"downloadowl.Country_Population\"}, {\"arrows\": \"to\", \"from\": \"downloadowl.Country_Population\", \"label\": \"subClassOf\", \"to\": \"govstat.Population\"}, {\"arrows\": \"to\", \"from\": \"downloadowl.Country_Population\", \"label\": \"iso21972.unit_of_measure\", \"to\": \"iso21972.population_cardinality_unit\"}, {\"arrows\": \"to\", \"from\": \"downloadowl.Country_Population\", \"label\": \"iso21972.defined_by\", \"to\": \"cids.Person\"}, {\"arrows\": \"to\", \"from\": \"downloadowl.Country_Population\", \"label\": \"iso21972.located_in\", \"to\": \"schema.org.Country\"}, {\"arrows\": \"to\", \"from\": \"downloadowl.Spo_1_Percentage_Of_People_In_Food_Insecurity_Group\", \"label\": \"iso21972.numerator\", \"to\": \"downloadowl.Spo_1_Food_Insecure_Population_Sum\"}, {\"arrows\": \"to\", \"from\": \"downloadowl.Spo_1_Food_Insecure_Population_Sum\", \"label\": \"subClassOf\", \"to\": \"iso21972.SumIndicator\"}, {\"arrows\": \"to\", \"from\": \"downloadowl.Spo_1_Food_Insecure_Population_Sum\", \"label\": \"subClassOf\", \"to\": \"downloadowl.SPO_1\"}, {\"arrows\": \"to\", \"from\": \"downloadowl.Spo_1_Food_Insecure_Population_Sum\", \"label\": \"iso21972.value\", \"to\": \"iso21972.Measure \\u0026 iso21972.numerical_value.exactly(1, \\u003cclass \\u0027int\\u0027\\u003e)\"}, {\"arrows\": \"to\", \"from\": \"downloadowl.Spo_1_Food_Insecure_Population_Sum\", \"label\": \"iso21972.parameter_of_var\", \"to\": \"downloadowl.foodInsecurePopulationVar\"}, {\"arrows\": \"to\", \"from\": \"downloadowl.Spo_1_Food_Insecure_Population_Sum\", \"label\": \"iso21972.unit_of_measure\", \"to\": \"iso21972.population_cardinality_unit\"}, {\"arrows\": \"to\", \"from\": \"downloadowl.Spo_1_Food_Insecure_Population_Sum\", \"label\": \"govstat.sum_of\", \"to\": \"downloadowl.Spo_1_Food_Insecure_Population\"}, {\"arrows\": \"to\", \"from\": \"downloadowl.Spo_1_Food_Insecure_Population\", \"label\": \"subClassOf\", \"to\": \"govstat.Population\"}, {\"arrows\": \"to\", \"from\": \"downloadowl.Spo_1_Food_Insecure_Population\", \"label\": \"subClassOf\", \"to\": \"downloadowl.SPO_1\"}, {\"arrows\": \"to\", \"from\": \"downloadowl.Spo_1_Food_Insecure_Population\", \"label\": \"iso21972.defined_by\", \"to\": \"downloadowl.FoodInsecurePerson\"}, {\"arrows\": \"to\", \"from\": \"downloadowl.FoodInsecurePerson\", \"label\": \"subClassOf\", \"to\": \"cids.Person\"}, {\"arrows\": \"to\", \"from\": \"downloadowl.FoodInsecurePerson\", \"label\": \"subClassOf\", \"to\": \"downloadowl.SPOThing\"}, {\"arrows\": \"to\", \"from\": \"downloadowl.FoodInsecurePerson\", \"label\": \"iso21972.for_time_interval\", \"to\": \"time.DateTimeInterval\"}, {\"arrows\": \"to\", \"from\": \"downloadowl.FoodInsecurePerson\", \"label\": \"downloadowl.hasFoodInsecurity\", \"to\": \"downloadowl.FoodInsecurity\"}, {\"arrows\": \"to\", \"from\": \"downloadowl.FoodInsecurity\", \"label\": \"subClassOf\", \"to\": \"downloadowl.FoodSecurity\"}, {\"arrows\": \"to\", \"from\": \"downloadowl.FoodInsecurity\", \"label\": \"downloadowl.hasAmountOfFoodIntake\", \"to\": \"iso21972.Measure \\u0026 iso21972.numerical_value.exactly(1, \\u003cclass \\u0027int\\u0027\\u003e)\"}, {\"arrows\": \"to\", \"from\": \"downloadowl.FoodInsecurity\", \"label\": \"iso21972.for_time_interval\", \"to\": \"time.DateTimeInterval\"}, {\"arrows\": \"to\", \"from\": \"downloadowl.FoodInsecurity\", \"label\": \"downloadowl.hasEatingPatternType\", \"to\": \"downloadowl.DisruptiveEatingPattern\"}, {\"arrows\": \"to\", \"from\": \"downloadowl.DisruptiveEatingPattern\", \"label\": \"subClassOf\", \"to\": \"COSMO.Disruptive\"}, {\"arrows\": \"to\", \"from\": \"downloadowl.DisruptiveEatingPattern\", \"label\": \"subClassOf\", \"to\": \"downloadowl.SPOThing\"}, {\"arrows\": \"to\", \"from\": \"downloadowl.FoodInsecurity\", \"label\": \"downloadowl.hasSeverityRank\", \"to\": \"owl.Thing\"}, {\"arrows\": \"to\", \"from\": \"downloadowl.FoodInsecurePerson\", \"label\": \"GenericProperties.hasName\", \"to\": \"\\u003cclass \\u0027str\\u0027\\u003e\"}, {\"arrows\": \"to\", \"from\": \"downloadowl.FoodInsecurePerson\", \"label\": \"cids.lowIncome\", \"to\": \"\\u003cclass \\u0027bool\\u0027\\u003e\"}, {\"arrows\": \"to\", \"from\": \"downloadowl.Spo_1_Food_Insecure_Population\", \"label\": \"iso21972.located_in\", \"to\": \"schema.org.Country\"}]);\n",
              "\n",
              "        // adding nodes and edges to the graph\n",
              "        data = {nodes: nodes, edges: edges};\n",
              "\n",
              "        var options = {\n",
              "    \"configure\": {\n",
              "        \"enabled\": true,\n",
              "        \"filter\": [\n",
              "            \"physics\"\n",
              "        ]\n",
              "    },\n",
              "    \"edges\": {\n",
              "        \"color\": {\n",
              "            \"inherit\": true\n",
              "        },\n",
              "        \"smooth\": {\n",
              "            \"enabled\": true,\n",
              "            \"type\": \"dynamic\"\n",
              "        }\n",
              "    },\n",
              "    \"interaction\": {\n",
              "        \"dragNodes\": true,\n",
              "        \"hideEdgesOnDrag\": false,\n",
              "        \"hideNodesOnDrag\": false\n",
              "    },\n",
              "    \"physics\": {\n",
              "        \"enabled\": true,\n",
              "        \"stabilization\": {\n",
              "            \"enabled\": true,\n",
              "            \"fit\": true,\n",
              "            \"iterations\": 1000,\n",
              "            \"onlyDynamicEdges\": false,\n",
              "            \"updateInterval\": 50\n",
              "        }\n",
              "    }\n",
              "};\n",
              "        \n",
              "        \n",
              "\n",
              "        \n",
              "        // if this network requires displaying the configure window,\n",
              "        // put it in its div\n",
              "        options.configure[\"container\"] = document.getElementById(\"config\");\n",
              "        \n",
              "\n",
              "        network = new vis.Network(container, data, options);\n",
              "\t \n",
              "        \n",
              "\n",
              "\n",
              "        \n",
              "\n",
              "        return network;\n",
              "\n",
              "    }\n",
              "\n",
              "    drawGraph();\n",
              "\n",
              "</script>\n",
              "</body>\n",
              "</html>"
            ]
          },
          "metadata": {}
        },
        {
          "output_type": "display_data",
          "data": {
            "text/plain": [
              "<Figure size 1296x1296 with 0 Axes>"
            ]
          },
          "metadata": {}
        }
      ]
    },
    {
      "cell_type": "code",
      "source": [
        "## Second Indicator Graph\n",
        "secondindicatorGraph=drawGraph(final2Graph,\"Indicator2\",18,'')"
      ],
      "metadata": {
        "colab": {
          "base_uri": "https://localhost:8080/",
          "height": 1000
        },
        "id": "p0EZAc4y-QWZ",
        "outputId": "84cc2436-adc8-480c-c41d-3dfcfb299801"
      },
      "execution_count": null,
      "outputs": [
        {
          "output_type": "display_data",
          "data": {
            "text/plain": [
              "<IPython.core.display.HTML object>"
            ],
            "text/html": [
              "<html>\n",
              "<head>\n",
              "<link rel=\"stylesheet\" href=\"https://cdn.jsdelivr.net/npm/vis-network@latest/styles/vis-network.css\" type=\"text/css\" />\n",
              "<script type=\"text/javascript\" src=\"https://cdn.jsdelivr.net/npm/vis-network@latest/dist/vis-network.min.js\"> </script>\n",
              "<center>\n",
              "<h1></h1>\n",
              "</center>\n",
              "\n",
              "<!-- <link rel=\"stylesheet\" href=\"../node_modules/vis/dist/vis.min.css\" type=\"text/css\" />\n",
              "<script type=\"text/javascript\" src=\"../node_modules/vis/dist/vis.js\"> </script>-->\n",
              "\n",
              "<style type=\"text/css\">\n",
              "\n",
              "        #mynetwork {\n",
              "            width: 1100px;\n",
              "            height: 700px;\n",
              "            background-color: #ffffff;\n",
              "            border: 1px solid lightgray;\n",
              "            position: relative;\n",
              "            float: left;\n",
              "        }\n",
              "\n",
              "        \n",
              "\n",
              "        \n",
              "        #config {\n",
              "            float: left;\n",
              "            width: 400px;\n",
              "            height: 600px;\n",
              "        }\n",
              "        \n",
              "\n",
              "        \n",
              "</style>\n",
              "\n",
              "</head>\n",
              "\n",
              "<body>\n",
              "<div id = \"mynetwork\"></div>\n",
              "\n",
              "\n",
              "<div id = \"config\"></div>\n",
              "\n",
              "<script type=\"text/javascript\">\n",
              "\n",
              "    // initialize global variables.\n",
              "    var edges;\n",
              "    var nodes;\n",
              "    var network; \n",
              "    var container;\n",
              "    var options, data;\n",
              "\n",
              "    \n",
              "    // This method is responsible for drawing the graph, returns the drawn network\n",
              "    function drawGraph() {\n",
              "        var container = document.getElementById('mynetwork');\n",
              "        \n",
              "        \n",
              "\n",
              "        // parsing and collecting nodes and edges from the python\n",
              "        nodes = new vis.DataSet([{\"id\": \"downloadowl.Spo_2_Number_Of_People_Who_Came_To_Our_Free_Breakfast_Programs\", \"label\": \"downloadowl.Spo_2_Number_Of_People_Who_Came_To_Our_Free_Breakfast_Programs\", \"shape\": \"dot\"}, {\"id\": \"iso21972.SumIndicator\", \"label\": \"iso21972.SumIndicator\", \"shape\": \"dot\"}, {\"id\": \"downloadowl.SPO_2\", \"label\": \"downloadowl.SPO_2\", \"shape\": \"dot\"}, {\"id\": \"iso21972.numerical_value.exactly(1, \\u003cclass \\u0027int\\u0027\\u003e)\", \"label\": \"iso21972.numerical_value.exactly(1, \\u003cclass \\u0027int\\u0027\\u003e)\", \"shape\": \"dot\"}, {\"id\": \"downloadowl.numberOfPeopleParticipatedVar\", \"label\": \"downloadowl.numberOfPeopleParticipatedVar\", \"shape\": \"dot\"}, {\"id\": \"iso21972.population_cardinality_unit\", \"label\": \"iso21972.population_cardinality_unit\", \"shape\": \"dot\"}, {\"id\": \"downloadowl.Spo_2_Participants_Of_Free_Breakfast_Program_Population\", \"label\": \"downloadowl.Spo_2_Participants_Of_Free_Breakfast_Program_Population\", \"shape\": \"dot\"}, {\"id\": \"govstat.Population\", \"label\": \"govstat.Population\", \"shape\": \"dot\"}, {\"id\": \"downloadowl.FreeBreakfastProgram\", \"label\": \"downloadowl.FreeBreakfastProgram\", \"shape\": \"dot\"}, {\"id\": \"dcmitype.Service\", \"label\": \"dcmitype.Service\", \"shape\": \"dot\"}, {\"id\": \"downloadowl.SPOThing\", \"label\": \"downloadowl.SPOThing\", \"shape\": \"dot\"}, {\"id\": \"COSMO.Participant\", \"label\": \"COSMO.Participant\", \"shape\": \"dot\"}, {\"id\": \"COSMO.Breakfast\", \"label\": \"COSMO.Breakfast\", \"shape\": \"dot\"}, {\"id\": \"cids.SocialPurposeOrganization\", \"label\": \"cids.SocialPurposeOrganization\", \"shape\": \"dot\"}, {\"id\": \"schema.org.Country\", \"label\": \"schema.org.Country\", \"shape\": \"dot\"}, {\"id\": \"\\u003cclass \\u0027bool\\u0027\\u003e\", \"label\": \"\\u003cclass \\u0027bool\\u0027\\u003e\", \"shape\": \"dot\"}, {\"id\": \"time.generalYear\", \"label\": \"time.generalYear\", \"shape\": \"dot\"}]);\n",
              "        edges = new vis.DataSet([{\"arrows\": \"to\", \"from\": \"downloadowl.Spo_2_Number_Of_People_Who_Came_To_Our_Free_Breakfast_Programs\", \"label\": \"subClassOf\", \"to\": \"iso21972.SumIndicator\"}, {\"arrows\": \"to\", \"from\": \"downloadowl.Spo_2_Number_Of_People_Who_Came_To_Our_Free_Breakfast_Programs\", \"label\": \"subClassOf\", \"to\": \"downloadowl.SPO_2\"}, {\"arrows\": \"to\", \"from\": \"downloadowl.Spo_2_Number_Of_People_Who_Came_To_Our_Free_Breakfast_Programs\", \"label\": \"iso21972.value\", \"to\": \"iso21972.numerical_value.exactly(1, \\u003cclass \\u0027int\\u0027\\u003e)\"}, {\"arrows\": \"to\", \"from\": \"downloadowl.Spo_2_Number_Of_People_Who_Came_To_Our_Free_Breakfast_Programs\", \"label\": \"iso21972.parameter_of_var\", \"to\": \"downloadowl.numberOfPeopleParticipatedVar\"}, {\"arrows\": \"to\", \"from\": \"downloadowl.Spo_2_Number_Of_People_Who_Came_To_Our_Free_Breakfast_Programs\", \"label\": \"iso21972.unit_of_measure\", \"to\": \"iso21972.population_cardinality_unit\"}, {\"arrows\": \"to\", \"from\": \"downloadowl.Spo_2_Number_Of_People_Who_Came_To_Our_Free_Breakfast_Programs\", \"label\": \"govstat.sum_of\", \"to\": \"downloadowl.Spo_2_Participants_Of_Free_Breakfast_Program_Population\"}, {\"arrows\": \"to\", \"from\": \"downloadowl.Spo_2_Participants_Of_Free_Breakfast_Program_Population\", \"label\": \"subClassOf\", \"to\": \"govstat.Population\"}, {\"arrows\": \"to\", \"from\": \"downloadowl.Spo_2_Participants_Of_Free_Breakfast_Program_Population\", \"label\": \"subClassOf\", \"to\": \"downloadowl.SPO_2\"}, {\"arrows\": \"to\", \"from\": \"downloadowl.Spo_2_Participants_Of_Free_Breakfast_Program_Population\", \"label\": \"iso21972.defined_by\", \"to\": \"downloadowl.FreeBreakfastProgram\"}, {\"arrows\": \"to\", \"from\": \"downloadowl.FreeBreakfastProgram\", \"label\": \"subClassOf\", \"to\": \"dcmitype.Service\"}, {\"arrows\": \"to\", \"from\": \"downloadowl.FreeBreakfastProgram\", \"label\": \"subClassOf\", \"to\": \"downloadowl.SPOThing\"}, {\"arrows\": \"to\", \"from\": \"downloadowl.FreeBreakfastProgram\", \"label\": \"service.consumedBy\", \"to\": \"COSMO.Participant\"}, {\"arrows\": \"to\", \"from\": \"downloadowl.FreeBreakfastProgram\", \"label\": \"service.provides\", \"to\": \"COSMO.Breakfast\"}, {\"arrows\": \"to\", \"from\": \"downloadowl.FreeBreakfastProgram\", \"label\": \"downloadowl.organizedBy\", \"to\": \"cids.SocialPurposeOrganization\"}, {\"arrows\": \"to\", \"from\": \"downloadowl.FreeBreakfastProgram\", \"label\": \"iso21972.located_in\", \"to\": \"schema.org.Country\"}, {\"arrows\": \"to\", \"from\": \"downloadowl.FreeBreakfastProgram\", \"label\": \"downloadowl.isFree\", \"to\": \"\\u003cclass \\u0027bool\\u0027\\u003e\"}, {\"arrows\": \"to\", \"from\": \"downloadowl.FreeBreakfastProgram\", \"label\": \"time.year\", \"to\": \"time.generalYear\"}, {\"arrows\": \"to\", \"from\": \"downloadowl.Spo_2_Participants_Of_Free_Breakfast_Program_Population\", \"label\": \"iso21972.located_in\", \"to\": \"schema.org.Country\"}]);\n",
              "\n",
              "        // adding nodes and edges to the graph\n",
              "        data = {nodes: nodes, edges: edges};\n",
              "\n",
              "        var options = {\n",
              "    \"configure\": {\n",
              "        \"enabled\": true,\n",
              "        \"filter\": [\n",
              "            \"physics\"\n",
              "        ]\n",
              "    },\n",
              "    \"edges\": {\n",
              "        \"color\": {\n",
              "            \"inherit\": true\n",
              "        },\n",
              "        \"smooth\": {\n",
              "            \"enabled\": true,\n",
              "            \"type\": \"dynamic\"\n",
              "        }\n",
              "    },\n",
              "    \"interaction\": {\n",
              "        \"dragNodes\": true,\n",
              "        \"hideEdgesOnDrag\": false,\n",
              "        \"hideNodesOnDrag\": false\n",
              "    },\n",
              "    \"physics\": {\n",
              "        \"enabled\": true,\n",
              "        \"stabilization\": {\n",
              "            \"enabled\": true,\n",
              "            \"fit\": true,\n",
              "            \"iterations\": 1000,\n",
              "            \"onlyDynamicEdges\": false,\n",
              "            \"updateInterval\": 50\n",
              "        }\n",
              "    }\n",
              "};\n",
              "        \n",
              "        \n",
              "\n",
              "        \n",
              "        // if this network requires displaying the configure window,\n",
              "        // put it in its div\n",
              "        options.configure[\"container\"] = document.getElementById(\"config\");\n",
              "        \n",
              "\n",
              "        network = new vis.Network(container, data, options);\n",
              "\t \n",
              "        \n",
              "\n",
              "\n",
              "        \n",
              "\n",
              "        return network;\n",
              "\n",
              "    }\n",
              "\n",
              "    drawGraph();\n",
              "\n",
              "</script>\n",
              "</body>\n",
              "</html>"
            ]
          },
          "metadata": {}
        },
        {
          "output_type": "display_data",
          "data": {
            "text/plain": [
              "<Figure size 1296x1296 with 0 Axes>"
            ]
          },
          "metadata": {}
        }
      ]
    },
    {
      "cell_type": "markdown",
      "source": [
        "**Graph Analysis**"
      ],
      "metadata": {
        "id": "UVEj0bjXIoOt"
      }
    },
    {
      "cell_type": "code",
      "source": [
        "#Creating Dataframe\n",
        "data={\n",
        "    'Indicators':['spo_1','spo_2','spo_3','spo_4','spo_5','spo_6','spo_7','spo_8','spo_9','spo_10','spo_11','spo_12','spo_13','spo_14','spo_15','spo_17'],\n",
        "    'Number_of_Nodes':[25,17,14,17,13,15,21,12,17,13,16,13,22,16,22,19],\n",
        "    'Number_of_Edges':[34,18,15,19,14,17,28,12,21,18,16,13,37,16,29,31]\n",
        "}\n",
        "df = pd.DataFrame(data)\n",
        "print(df)\n"
      ],
      "metadata": {
        "colab": {
          "base_uri": "https://localhost:8080/"
        },
        "id": "7A6au7JfImi6",
        "outputId": "e7c8d1a0-ab54-4509-aa23-9b40ac2a2a04"
      },
      "execution_count": null,
      "outputs": [
        {
          "output_type": "stream",
          "name": "stdout",
          "text": [
            "   Indicators  Number_of_Nodes  Number_of_Edges\n",
            "0       spo_1               25               34\n",
            "1       spo_2               17               18\n",
            "2       spo_3               14               15\n",
            "3       spo_4               17               19\n",
            "4       spo_5               13               14\n",
            "5       spo_6               15               17\n",
            "6       spo_7               21               28\n",
            "7       spo_8               12               12\n",
            "8       spo_9               17               21\n",
            "9      spo_10               13               18\n",
            "10     spo_11               16               16\n",
            "11     spo_12               13               13\n",
            "12     spo_13               22               37\n",
            "13     spo_14               16               16\n",
            "14     spo_15               22               29\n",
            "15     spo_17               19               31\n"
          ]
        }
      ]
    },
    {
      "cell_type": "code",
      "source": [
        "#Number of Nodes\n",
        "sns.set(rc={'figure.figsize':(20,8.27)})\n",
        "ax = sns.barplot(x=\"Indicators\", y=\"Number_of_Nodes\", data=df,palette=\"Blues_d\")\n"
      ],
      "metadata": {
        "colab": {
          "base_uri": "https://localhost:8080/",
          "height": 518
        },
        "id": "fA3ah1JbLpVu",
        "outputId": "09bae11e-1c2c-4a09-9804-9028e5053e5b"
      },
      "execution_count": null,
      "outputs": [
        {
          "output_type": "display_data",
          "data": {
            "text/plain": [
              "<Figure size 1440x595.44 with 1 Axes>"
            ],
            "image/png": "[encoded data removed]"
          },
          "metadata": {}
        }
      ]
    },
    {
      "cell_type": "markdown",
      "source": [
        "**VF2 Graph Isomorphism**"
      ],
      "metadata": {
        "id": "Eum6hARpIcqb"
      }
    },
    {
      "cell_type": "code",
      "source": [
        "GM = isomorphism.DiGraphMatcher(firstindicatorGraph, secondindicatorGraph)\n",
        "print(\"Graph Isomorphism Test: \"+str(GM.is_isomorphic()))\n",
        "print(\"Is the subgraph isomorphic in any way? Ans:\"+str(GM.subgraph_is_isomorphic())+\"\\n\")\n",
        "print(\"Display the subgraph mapping\" )\n",
        "for ls in GM.mapping:\n",
        "  print(str(ls)+\"=>\"+str(GM.mapping.get(ls)))"
      ],
      "metadata": {
        "colab": {
          "base_uri": "https://localhost:8080/"
        },
        "id": "I2uoQD1MIb6L",
        "outputId": "56527aee-719b-48c9-d2a1-ba2c4de34891"
      },
      "execution_count": null,
      "outputs": [
        {
          "output_type": "stream",
          "name": "stdout",
          "text": [
            "Graph Isomorphism Test: False\n",
            "Is the subgraph isomorphic in any way? Ans:False\n",
            "\n",
            "Display the subgraph mapping\n"
          ]
        }
      ]
    },
    {
      "cell_type": "code",
      "source": [
        "def uniquePropertylist(listisubgraph):\n",
        "  propertylist=[]\n",
        "  for lists in listisubgraph:\n",
        "    propertylist.append(lists[1])\n",
        "  propertydict={}\n",
        "  for item in propertylist:\n",
        "    propertydict[item]=propertydict.get(item, 0) + 1\n",
        "  return propertydict"
      ],
      "metadata": {
        "id": "F8AzzIV0Xhs1"
      },
      "execution_count": null,
      "outputs": []
    },
    {
      "cell_type": "markdown",
      "source": [
        "Comparison Category:\n",
        "1. Indicator Type Comparison: Check that the two indicators, SumIndicator   and RatioIndicator, have the same structure.\n",
        "2. Population: Whether both indicators have the same population, different or subsets of each other.\n",
        "3. Indicator Quantity: Checking if both indicators Quantity and its Measure must refer to the same unit of measure.\n",
        "4. Time Equality: Checking if both indicators are using same time interval i.e.,iso21972:for_time_interval.\n",
        "\n",
        "There are four types of Indicators.\n",
        "\n",
        "1.   Indicator\n",
        "2.   SumIndicator\n",
        "3.   RatioIndicator\n",
        "4.   DifferenceIndicator\n"
      ],
      "metadata": {
        "id": "LSM2tTRr2-h0"
      }
    },
    {
      "cell_type": "markdown",
      "source": [
        "#Category 1: Indicator Type Comparision"
      ],
      "metadata": {
        "id": "DKSmtfUcpON_"
      }
    },
    {
      "cell_type": "code",
      "source": [
        "def SubGraphForType(finalgraph):\n",
        "  Indicator1Node=\"\"\n",
        "  IndicatorSubclass=\"\"\n",
        "  Indicator1typelist=[]\n",
        "  for lists in finalgraph:\n",
        "    if 'RatioIndicator' in str(lists[3]) or 'Indicator' in str(lists[3]) or 'SumIndicator' in str(lists[3]) or 'DifferenceIndicator' in str(lists[3]) :\n",
        "      IndicatorSubclass=lists[3]\n",
        "      Indicator1Node=lists[0]\n",
        "      break\n",
        "  for lists in finalgraph:\n",
        "    if(str(lists[0])==str(Indicator1Node)):\n",
        "      Indicator1typelist.append(lists)\n",
        "  return Indicator1Node,Indicator1typelist,IndicatorSubclass\n",
        "\n"
      ],
      "metadata": {
        "id": "WMAu9T5u7YH-"
      },
      "execution_count": null,
      "outputs": []
    },
    {
      "cell_type": "code",
      "source": [
        "Indicator1Node=\"\"\n",
        "Indicator1TypeSubclass=\"\"\n",
        "Indicator1typelist=[]\n",
        "Indicator2Node=\"\"\n",
        "Indicator2TypeSubclass=\"\"\n",
        "Indicator2typelist=[]\n",
        "Indicator1Node,Indicator1typelist,Indicator1TypeSubclass=SubGraphForType(final1Graph)\n",
        "Indicator2Node,Indicator2typelist,Indicator2TypeSubclass=SubGraphForType(final2Graph)\n"
      ],
      "metadata": {
        "id": "ulzLrzWojvsN"
      },
      "execution_count": null,
      "outputs": []
    },
    {
      "cell_type": "code",
      "source": [
        "IndicatorType1SubGraph=drawGraph(Indicator1typelist,'IndicatorType1Subgraph',8,'')"
      ],
      "metadata": {
        "colab": {
          "base_uri": "https://localhost:8080/",
          "height": 1000
        },
        "id": "UQ3CyrFlkQAb",
        "outputId": "fe63744c-70ae-4a90-f885-a82bac62d634"
      },
      "execution_count": null,
      "outputs": [
        {
          "output_type": "display_data",
          "data": {
            "text/plain": [
              "<IPython.core.display.HTML object>"
            ],
            "text/html": [
              "<html>\n",
              "<head>\n",
              "<link rel=\"stylesheet\" href=\"https://cdn.jsdelivr.net/npm/vis-network@latest/styles/vis-network.css\" type=\"text/css\" />\n",
              "<script type=\"text/javascript\" src=\"https://cdn.jsdelivr.net/npm/vis-network@latest/dist/vis-network.min.js\"> </script>\n",
              "<center>\n",
              "<h1></h1>\n",
              "</center>\n",
              "\n",
              "<!-- <link rel=\"stylesheet\" href=\"../node_modules/vis/dist/vis.min.css\" type=\"text/css\" />\n",
              "<script type=\"text/javascript\" src=\"../node_modules/vis/dist/vis.js\"> </script>-->\n",
              "\n",
              "<style type=\"text/css\">\n",
              "\n",
              "        #mynetwork {\n",
              "            width: 1100px;\n",
              "            height: 700px;\n",
              "            background-color: #ffffff;\n",
              "            border: 1px solid lightgray;\n",
              "            position: relative;\n",
              "            float: left;\n",
              "        }\n",
              "\n",
              "        \n",
              "\n",
              "        \n",
              "        #config {\n",
              "            float: left;\n",
              "            width: 400px;\n",
              "            height: 600px;\n",
              "        }\n",
              "        \n",
              "\n",
              "        \n",
              "</style>\n",
              "\n",
              "</head>\n",
              "\n",
              "<body>\n",
              "<div id = \"mynetwork\"></div>\n",
              "\n",
              "\n",
              "<div id = \"config\"></div>\n",
              "\n",
              "<script type=\"text/javascript\">\n",
              "\n",
              "    // initialize global variables.\n",
              "    var edges;\n",
              "    var nodes;\n",
              "    var network; \n",
              "    var container;\n",
              "    var options, data;\n",
              "\n",
              "    \n",
              "    // This method is responsible for drawing the graph, returns the drawn network\n",
              "    function drawGraph() {\n",
              "        var container = document.getElementById('mynetwork');\n",
              "        \n",
              "        \n",
              "\n",
              "        // parsing and collecting nodes and edges from the python\n",
              "        nodes = new vis.DataSet([{\"id\": \"downloadowl.Spo_1_Percentage_Of_People_In_Food_Insecurity_Group\", \"label\": \"downloadowl.Spo_1_Percentage_Of_People_In_Food_Insecurity_Group\", \"shape\": \"dot\"}, {\"id\": \"iso21972.RatioIndicator\", \"label\": \"iso21972.RatioIndicator\", \"shape\": \"dot\"}, {\"id\": \"downloadowl.SPO_1\", \"label\": \"downloadowl.SPO_1\", \"shape\": \"dot\"}, {\"id\": \"downloadowl.Percent\", \"label\": \"downloadowl.Percent\", \"shape\": \"dot\"}, {\"id\": \"downloadowl.Country_Population\", \"label\": \"downloadowl.Country_Population\", \"shape\": \"dot\"}, {\"id\": \"downloadowl.Spo_1_Food_Insecure_Population_Sum\", \"label\": \"downloadowl.Spo_1_Food_Insecure_Population_Sum\", \"shape\": \"dot\"}]);\n",
              "        edges = new vis.DataSet([{\"arrows\": \"to\", \"from\": \"downloadowl.Spo_1_Percentage_Of_People_In_Food_Insecurity_Group\", \"label\": \"subClassOf\", \"to\": \"iso21972.RatioIndicator\"}, {\"arrows\": \"to\", \"from\": \"downloadowl.Spo_1_Percentage_Of_People_In_Food_Insecurity_Group\", \"label\": \"subClassOf\", \"to\": \"downloadowl.SPO_1\"}, {\"arrows\": \"to\", \"from\": \"downloadowl.Spo_1_Percentage_Of_People_In_Food_Insecurity_Group\", \"label\": \"iso21972.unit_of_measure\", \"to\": \"downloadowl.Percent\"}, {\"arrows\": \"to\", \"from\": \"downloadowl.Spo_1_Percentage_Of_People_In_Food_Insecurity_Group\", \"label\": \"iso21972.denominator\", \"to\": \"downloadowl.Country_Population\"}, {\"arrows\": \"to\", \"from\": \"downloadowl.Spo_1_Percentage_Of_People_In_Food_Insecurity_Group\", \"label\": \"iso21972.numerator\", \"to\": \"downloadowl.Spo_1_Food_Insecure_Population_Sum\"}]);\n",
              "\n",
              "        // adding nodes and edges to the graph\n",
              "        data = {nodes: nodes, edges: edges};\n",
              "\n",
              "        var options = {\n",
              "    \"configure\": {\n",
              "        \"enabled\": true,\n",
              "        \"filter\": [\n",
              "            \"physics\"\n",
              "        ]\n",
              "    },\n",
              "    \"edges\": {\n",
              "        \"color\": {\n",
              "            \"inherit\": true\n",
              "        },\n",
              "        \"smooth\": {\n",
              "            \"enabled\": true,\n",
              "            \"type\": \"dynamic\"\n",
              "        }\n",
              "    },\n",
              "    \"interaction\": {\n",
              "        \"dragNodes\": true,\n",
              "        \"hideEdgesOnDrag\": false,\n",
              "        \"hideNodesOnDrag\": false\n",
              "    },\n",
              "    \"physics\": {\n",
              "        \"enabled\": true,\n",
              "        \"stabilization\": {\n",
              "            \"enabled\": true,\n",
              "            \"fit\": true,\n",
              "            \"iterations\": 1000,\n",
              "            \"onlyDynamicEdges\": false,\n",
              "            \"updateInterval\": 50\n",
              "        }\n",
              "    }\n",
              "};\n",
              "        \n",
              "        \n",
              "\n",
              "        \n",
              "        // if this network requires displaying the configure window,\n",
              "        // put it in its div\n",
              "        options.configure[\"container\"] = document.getElementById(\"config\");\n",
              "        \n",
              "\n",
              "        network = new vis.Network(container, data, options);\n",
              "\t \n",
              "        \n",
              "\n",
              "\n",
              "        \n",
              "\n",
              "        return network;\n",
              "\n",
              "    }\n",
              "\n",
              "    drawGraph();\n",
              "\n",
              "</script>\n",
              "</body>\n",
              "</html>"
            ]
          },
          "metadata": {}
        },
        {
          "output_type": "display_data",
          "data": {
            "text/plain": [
              "<Figure size 576x576 with 0 Axes>"
            ]
          },
          "metadata": {}
        }
      ]
    },
    {
      "cell_type": "code",
      "source": [
        "IndicatorType2SubGraph=drawGraph(Indicator2typelist,'IndicatorType2Subgraph',8,'')"
      ],
      "metadata": {
        "colab": {
          "base_uri": "https://localhost:8080/",
          "height": 1000
        },
        "id": "jP_D8QmqkTHa",
        "outputId": "cd651130-cbb0-4e79-e0b2-ea5abe5e7f49"
      },
      "execution_count": null,
      "outputs": [
        {
          "output_type": "display_data",
          "data": {
            "text/plain": [
              "<IPython.core.display.HTML object>"
            ],
            "text/html": [
              "<html>\n",
              "<head>\n",
              "<link rel=\"stylesheet\" href=\"https://cdn.jsdelivr.net/npm/vis-network@latest/styles/vis-network.css\" type=\"text/css\" />\n",
              "<script type=\"text/javascript\" src=\"https://cdn.jsdelivr.net/npm/vis-network@latest/dist/vis-network.min.js\"> </script>\n",
              "<center>\n",
              "<h1></h1>\n",
              "</center>\n",
              "\n",
              "<!-- <link rel=\"stylesheet\" href=\"../node_modules/vis/dist/vis.min.css\" type=\"text/css\" />\n",
              "<script type=\"text/javascript\" src=\"../node_modules/vis/dist/vis.js\"> </script>-->\n",
              "\n",
              "<style type=\"text/css\">\n",
              "\n",
              "        #mynetwork {\n",
              "            width: 1100px;\n",
              "            height: 700px;\n",
              "            background-color: #ffffff;\n",
              "            border: 1px solid lightgray;\n",
              "            position: relative;\n",
              "            float: left;\n",
              "        }\n",
              "\n",
              "        \n",
              "\n",
              "        \n",
              "        #config {\n",
              "            float: left;\n",
              "            width: 400px;\n",
              "            height: 600px;\n",
              "        }\n",
              "        \n",
              "\n",
              "        \n",
              "</style>\n",
              "\n",
              "</head>\n",
              "\n",
              "<body>\n",
              "<div id = \"mynetwork\"></div>\n",
              "\n",
              "\n",
              "<div id = \"config\"></div>\n",
              "\n",
              "<script type=\"text/javascript\">\n",
              "\n",
              "    // initialize global variables.\n",
              "    var edges;\n",
              "    var nodes;\n",
              "    var network; \n",
              "    var container;\n",
              "    var options, data;\n",
              "\n",
              "    \n",
              "    // This method is responsible for drawing the graph, returns the drawn network\n",
              "    function drawGraph() {\n",
              "        var container = document.getElementById('mynetwork');\n",
              "        \n",
              "        \n",
              "\n",
              "        // parsing and collecting nodes and edges from the python\n",
              "        nodes = new vis.DataSet([{\"id\": \"downloadowl.Spo_2_Number_Of_People_Who_Came_To_Our_Free_Breakfast_Programs\", \"label\": \"downloadowl.Spo_2_Number_Of_People_Who_Came_To_Our_Free_Breakfast_Programs\", \"shape\": \"dot\"}, {\"id\": \"iso21972.SumIndicator\", \"label\": \"iso21972.SumIndicator\", \"shape\": \"dot\"}, {\"id\": \"downloadowl.SPO_2\", \"label\": \"downloadowl.SPO_2\", \"shape\": \"dot\"}, {\"id\": \"iso21972.numerical_value.exactly(1, \\u003cclass \\u0027int\\u0027\\u003e)\", \"label\": \"iso21972.numerical_value.exactly(1, \\u003cclass \\u0027int\\u0027\\u003e)\", \"shape\": \"dot\"}, {\"id\": \"downloadowl.numberOfPeopleParticipatedVar\", \"label\": \"downloadowl.numberOfPeopleParticipatedVar\", \"shape\": \"dot\"}, {\"id\": \"iso21972.population_cardinality_unit\", \"label\": \"iso21972.population_cardinality_unit\", \"shape\": \"dot\"}, {\"id\": \"downloadowl.Spo_2_Participants_Of_Free_Breakfast_Program_Population\", \"label\": \"downloadowl.Spo_2_Participants_Of_Free_Breakfast_Program_Population\", \"shape\": \"dot\"}]);\n",
              "        edges = new vis.DataSet([{\"arrows\": \"to\", \"from\": \"downloadowl.Spo_2_Number_Of_People_Who_Came_To_Our_Free_Breakfast_Programs\", \"label\": \"subClassOf\", \"to\": \"iso21972.SumIndicator\"}, {\"arrows\": \"to\", \"from\": \"downloadowl.Spo_2_Number_Of_People_Who_Came_To_Our_Free_Breakfast_Programs\", \"label\": \"subClassOf\", \"to\": \"downloadowl.SPO_2\"}, {\"arrows\": \"to\", \"from\": \"downloadowl.Spo_2_Number_Of_People_Who_Came_To_Our_Free_Breakfast_Programs\", \"label\": \"iso21972.value\", \"to\": \"iso21972.numerical_value.exactly(1, \\u003cclass \\u0027int\\u0027\\u003e)\"}, {\"arrows\": \"to\", \"from\": \"downloadowl.Spo_2_Number_Of_People_Who_Came_To_Our_Free_Breakfast_Programs\", \"label\": \"iso21972.parameter_of_var\", \"to\": \"downloadowl.numberOfPeopleParticipatedVar\"}, {\"arrows\": \"to\", \"from\": \"downloadowl.Spo_2_Number_Of_People_Who_Came_To_Our_Free_Breakfast_Programs\", \"label\": \"iso21972.unit_of_measure\", \"to\": \"iso21972.population_cardinality_unit\"}, {\"arrows\": \"to\", \"from\": \"downloadowl.Spo_2_Number_Of_People_Who_Came_To_Our_Free_Breakfast_Programs\", \"label\": \"govstat.sum_of\", \"to\": \"downloadowl.Spo_2_Participants_Of_Free_Breakfast_Program_Population\"}]);\n",
              "\n",
              "        // adding nodes and edges to the graph\n",
              "        data = {nodes: nodes, edges: edges};\n",
              "\n",
              "        var options = {\n",
              "    \"configure\": {\n",
              "        \"enabled\": true,\n",
              "        \"filter\": [\n",
              "            \"physics\"\n",
              "        ]\n",
              "    },\n",
              "    \"edges\": {\n",
              "        \"color\": {\n",
              "            \"inherit\": true\n",
              "        },\n",
              "        \"smooth\": {\n",
              "            \"enabled\": true,\n",
              "            \"type\": \"dynamic\"\n",
              "        }\n",
              "    },\n",
              "    \"interaction\": {\n",
              "        \"dragNodes\": true,\n",
              "        \"hideEdgesOnDrag\": false,\n",
              "        \"hideNodesOnDrag\": false\n",
              "    },\n",
              "    \"physics\": {\n",
              "        \"enabled\": true,\n",
              "        \"stabilization\": {\n",
              "            \"enabled\": true,\n",
              "            \"fit\": true,\n",
              "            \"iterations\": 1000,\n",
              "            \"onlyDynamicEdges\": false,\n",
              "            \"updateInterval\": 50\n",
              "        }\n",
              "    }\n",
              "};\n",
              "        \n",
              "        \n",
              "\n",
              "        \n",
              "        // if this network requires displaying the configure window,\n",
              "        // put it in its div\n",
              "        options.configure[\"container\"] = document.getElementById(\"config\");\n",
              "        \n",
              "\n",
              "        network = new vis.Network(container, data, options);\n",
              "\t \n",
              "        \n",
              "\n",
              "\n",
              "        \n",
              "\n",
              "        return network;\n",
              "\n",
              "    }\n",
              "\n",
              "    drawGraph();\n",
              "\n",
              "</script>\n",
              "</body>\n",
              "</html>"
            ]
          },
          "metadata": {}
        },
        {
          "output_type": "display_data",
          "data": {
            "text/plain": [
              "<Figure size 576x576 with 0 Axes>"
            ]
          },
          "metadata": {}
        }
      ]
    },
    {
      "cell_type": "code",
      "source": [
        "GM = isomorphism.DiGraphMatcher(IndicatorType1SubGraph, IndicatorType2SubGraph)\n",
        "print(\"The Graph is Isomorphic or not?\")\n",
        "print(GM.is_isomorphic())\n",
        "if(GM.is_isomorphic()):\n",
        "  if(Indicator2TypeSubclass==Indicator1TypeSubclass):\n",
        "    print(\"Both Indicator type are the same.\")\n",
        "    print(Indicator1TypeSubclass.get_iri(Indicator1TypeSubclass))\n",
        "  else:\n",
        "    print(\"Indicator 1 : \"+Indicator1TypeSubclass.get_iri(Indicator1TypeSubclass))\n",
        "    print(\"Indicator 2 : \"+Indicator2TypeSubclass.get_iri(Indicator2TypeSubclass))\n",
        "else:\n",
        "  print(\"Indicator 1 : \"+Indicator1TypeSubclass.get_iri(Indicator1TypeSubclass))\n",
        "  print(\"Indicator 2 : \"+Indicator2TypeSubclass.get_iri(Indicator2TypeSubclass))\n"
      ],
      "metadata": {
        "id": "oxbAMJkor6SC",
        "colab": {
          "base_uri": "https://localhost:8080/"
        },
        "outputId": "84c8678d-a521-43fd-bf3a-21b6ad78235d"
      },
      "execution_count": null,
      "outputs": [
        {
          "output_type": "stream",
          "name": "stdout",
          "text": [
            "The Graph is Isomorphic or not?\n",
            "False\n",
            "Indicator 1 : http://ontology.eil.utoronto.ca/ISO21972/iso21972#RatioIndicator\n",
            "Indicator 2 : http://ontology.eil.utoronto.ca/ISO21972/iso21972#SumIndicator\n"
          ]
        }
      ]
    },
    {
      "cell_type": "markdown",
      "source": [
        "**Subgraph Isomorphism Test(Indicator Type)**"
      ],
      "metadata": {
        "id": "fleiOZYH7rxs"
      }
    },
    {
      "cell_type": "code",
      "source": [
        "print(\"Number of Edges of indicator1subgraph:  \"+str(IndicatorType1SubGraph.number_of_edges()))\n",
        "print(\"Number of Vertices of indicator1subgraph:  \"+str(IndicatorType1SubGraph.number_of_nodes()))\n",
        "print(\"Number of Edges of indicator2subgraph: \"+str(IndicatorType2SubGraph.number_of_edges()))\n",
        "print(\"Number of Vertices of indicator2subgraph: \"+str(IndicatorType2SubGraph.number_of_nodes()))\n"
      ],
      "metadata": {
        "id": "WTg4mCujBO22",
        "colab": {
          "base_uri": "https://localhost:8080/"
        },
        "outputId": "7eb97ae9-755f-4ff3-ee2d-6d6e0a7f4704"
      },
      "execution_count": null,
      "outputs": [
        {
          "output_type": "stream",
          "name": "stdout",
          "text": [
            "Number of Edges of indicator1subgraph:  5\n",
            "Number of Vertices of indicator1subgraph:  6\n",
            "Number of Edges of indicator2subgraph: 6\n",
            "Number of Vertices of indicator2subgraph: 7\n"
          ]
        }
      ]
    },
    {
      "cell_type": "markdown",
      "source": [
        "If the two indicator type is not isomorphic than print the structral difference"
      ],
      "metadata": {
        "id": "0CoVGXXRSb8E"
      }
    },
    {
      "cell_type": "code",
      "source": [
        "if(GM.is_isomorphic()==False):\n",
        "  propertydictforsubgraph1=uniquePropertylist(Indicator1typelist)\n",
        "  print(\"Differences in the structure of indicator types\\n\")\n",
        "  print(\"Indicator 1\")\n",
        "  for key in propertydictforsubgraph1:\n",
        "    print(str(key)+\":\"+str(propertydictforsubgraph1[key]))\n",
        "  print(\"\\n\")\n",
        "  propertydictforsubgraph2=uniquePropertylist(Indicator2typelist)\n",
        "  print(\"Indicator 2\")\n",
        "  for key in propertydictforsubgraph2:\n",
        "    print(str(key)+\":\"+str(propertydictforsubgraph2[key]))"
      ],
      "metadata": {
        "id": "rh0KO3-WOTJt",
        "colab": {
          "base_uri": "https://localhost:8080/"
        },
        "outputId": "491e9b2b-1bea-4f3d-a0cc-67f238cdca15"
      },
      "execution_count": null,
      "outputs": [
        {
          "output_type": "stream",
          "name": "stdout",
          "text": [
            "Differences in the structure of indicator types\n",
            "\n",
            "Indicator 1\n",
            "subClassOf:2\n",
            "iso21972.unit_of_measure:1\n",
            "iso21972.denominator:1\n",
            "iso21972.numerator:1\n",
            "\n",
            "\n",
            "Indicator 2\n",
            "subClassOf:2\n",
            "iso21972.value:1\n",
            "iso21972.parameter_of_var:1\n",
            "iso21972.unit_of_measure:1\n",
            "govstat.sum_of:1\n"
          ]
        }
      ]
    },
    {
      "cell_type": "markdown",
      "source": [
        "If the graph is isomorphic then it will return mapping list"
      ],
      "metadata": {
        "id": "X9NEuYlE8FpG"
      }
    },
    {
      "cell_type": "code",
      "source": [
        "if(GM.is_isomorphic()==True):\n",
        "  GM.mapping"
      ],
      "metadata": {
        "id": "j-Nk99sbFldO"
      },
      "execution_count": null,
      "outputs": []
    },
    {
      "cell_type": "markdown",
      "source": [
        "#Category 2 : Population Wise Comparision"
      ],
      "metadata": {
        "id": "K1QVfWekUUR_"
      }
    },
    {
      "cell_type": "code",
      "source": [
        "def SubGraphForPopulation(finalgraph,graph):\n",
        "  Indicator1Node=\"\"\n",
        "  IndicatorDefinion=\"\"\n",
        "  Indicator1typelist=[]\n",
        "  IndicatorPopulationdefinition=\"\"\n",
        "  Indicatordefintion=\"\"\n",
        "  for lists in finalgraph:\n",
        "    if 'govstat.Population' in str(lists[3]):\n",
        "      Indicator1Node=lists[0]\n",
        "  for lists in finalgraph:\n",
        "    if(str(lists[0])==str(Indicator1Node)):\n",
        "      Indicator1typelist.append(lists)\n",
        "      if(str(lists[1])==\"iso21972.defined_by\"):\n",
        "        templist=list(graph.out_edges(lists[3]))\n",
        "        print(templist[0][0])\n",
        "        temps=[templist[0][0],\"subClassOf\",\"Nan\",templist[0][1],templist[0][0]]\n",
        "        Indicator1typelist.append(temps)\n",
        "        IndicatorPopulationdefinition=templist[0][1].get_iri(templist[0][1])\n",
        "  return Indicator1Node,Indicator1typelist,IndicatorPopulationdefinition\n",
        "\n"
      ],
      "metadata": {
        "id": "r91368CpUTwi"
      },
      "execution_count": null,
      "outputs": []
    },
    {
      "cell_type": "code",
      "source": [
        "Indicator1Node=\"\"\n",
        "Indicator1Populationdefinition=\"\"\n",
        "Indicator1Populationlist=[]\n",
        "Indicator2Node=\"\"\n",
        "Indicator2Populationdefinition=\"\"\n",
        "Indicator2populationlist=[]\n",
        "\n",
        "Indicator1Node,Indicator1Populationlist,Indicator1Populationdefinition=SubGraphForPopulation(final1Graph,firstindicatorGraph)\n",
        "Indicator2Node,Indicator2populationlist,Indicator2Populationdefinition=SubGraphForPopulation(final2Graph,secondindicatorGraph)\n",
        "if(len(Indicator1Populationlist)==0 or len(Indicator2populationlist)==0 ):\n",
        "  print(\"This Comparision is not possible because of not present of 'population' in one of the indicators\")\n",
        "else:\n",
        "  print(\"Indicator 1 : \"+Indicator1Populationdefinition)\n",
        "  print(\"Indicator 2 : \"+Indicator2Populationdefinition)\n",
        "  IndicatorPopulation1SubGraph=drawGraph(Indicator1Populationlist,'IndicatorPopulation1Subgraph',8,'')"
      ],
      "metadata": {
        "id": "fjgzDwmJU5Qk",
        "colab": {
          "base_uri": "https://localhost:8080/",
          "height": 1000
        },
        "outputId": "0c08d693-f9e0-4e8d-f6f5-6e6fce9dfeb0"
      },
      "execution_count": null,
      "outputs": [
        {
          "output_type": "stream",
          "name": "stdout",
          "text": [
            "downloadowl.FoodInsecurePerson\n",
            "downloadowl.FreeBreakfastProgram\n",
            "Indicator 1 : http://ontology.eil.utoronto.ca/cids/cids#Person\n",
            "Indicator 2 : http://purl.org/dc/dcmitype/Service\n"
          ]
        },
        {
          "output_type": "display_data",
          "data": {
            "text/plain": [
              "<IPython.core.display.HTML object>"
            ],
            "text/html": [
              "<html>\n",
              "<head>\n",
              "<link rel=\"stylesheet\" href=\"https://cdn.jsdelivr.net/npm/vis-network@latest/styles/vis-network.css\" type=\"text/css\" />\n",
              "<script type=\"text/javascript\" src=\"https://cdn.jsdelivr.net/npm/vis-network@latest/dist/vis-network.min.js\"> </script>\n",
              "<center>\n",
              "<h1></h1>\n",
              "</center>\n",
              "\n",
              "<!-- <link rel=\"stylesheet\" href=\"../node_modules/vis/dist/vis.min.css\" type=\"text/css\" />\n",
              "<script type=\"text/javascript\" src=\"../node_modules/vis/dist/vis.js\"> </script>-->\n",
              "\n",
              "<style type=\"text/css\">\n",
              "\n",
              "        #mynetwork {\n",
              "            width: 1100px;\n",
              "            height: 700px;\n",
              "            background-color: #ffffff;\n",
              "            border: 1px solid lightgray;\n",
              "            position: relative;\n",
              "            float: left;\n",
              "        }\n",
              "\n",
              "        \n",
              "\n",
              "        \n",
              "        #config {\n",
              "            float: left;\n",
              "            width: 400px;\n",
              "            height: 600px;\n",
              "        }\n",
              "        \n",
              "\n",
              "        \n",
              "</style>\n",
              "\n",
              "</head>\n",
              "\n",
              "<body>\n",
              "<div id = \"mynetwork\"></div>\n",
              "\n",
              "\n",
              "<div id = \"config\"></div>\n",
              "\n",
              "<script type=\"text/javascript\">\n",
              "\n",
              "    // initialize global variables.\n",
              "    var edges;\n",
              "    var nodes;\n",
              "    var network; \n",
              "    var container;\n",
              "    var options, data;\n",
              "\n",
              "    \n",
              "    // This method is responsible for drawing the graph, returns the drawn network\n",
              "    function drawGraph() {\n",
              "        var container = document.getElementById('mynetwork');\n",
              "        \n",
              "        \n",
              "\n",
              "        // parsing and collecting nodes and edges from the python\n",
              "        nodes = new vis.DataSet([{\"id\": \"downloadowl.Spo_1_Food_Insecure_Population\", \"label\": \"downloadowl.Spo_1_Food_Insecure_Population\", \"shape\": \"dot\"}, {\"id\": \"govstat.Population\", \"label\": \"govstat.Population\", \"shape\": \"dot\"}, {\"id\": \"downloadowl.SPO_1\", \"label\": \"downloadowl.SPO_1\", \"shape\": \"dot\"}, {\"id\": \"downloadowl.FoodInsecurePerson\", \"label\": \"downloadowl.FoodInsecurePerson\", \"shape\": \"dot\"}, {\"id\": \"cids.Person\", \"label\": \"cids.Person\", \"shape\": \"dot\"}, {\"id\": \"schema.org.Country\", \"label\": \"schema.org.Country\", \"shape\": \"dot\"}]);\n",
              "        edges = new vis.DataSet([{\"arrows\": \"to\", \"from\": \"downloadowl.Spo_1_Food_Insecure_Population\", \"label\": \"subClassOf\", \"to\": \"govstat.Population\"}, {\"arrows\": \"to\", \"from\": \"downloadowl.Spo_1_Food_Insecure_Population\", \"label\": \"subClassOf\", \"to\": \"downloadowl.SPO_1\"}, {\"arrows\": \"to\", \"from\": \"downloadowl.Spo_1_Food_Insecure_Population\", \"label\": \"iso21972.defined_by\", \"to\": \"downloadowl.FoodInsecurePerson\"}, {\"arrows\": \"to\", \"from\": \"downloadowl.FoodInsecurePerson\", \"label\": \"subClassOf\", \"to\": \"cids.Person\"}, {\"arrows\": \"to\", \"from\": \"downloadowl.Spo_1_Food_Insecure_Population\", \"label\": \"iso21972.located_in\", \"to\": \"schema.org.Country\"}]);\n",
              "\n",
              "        // adding nodes and edges to the graph\n",
              "        data = {nodes: nodes, edges: edges};\n",
              "\n",
              "        var options = {\n",
              "    \"configure\": {\n",
              "        \"enabled\": true,\n",
              "        \"filter\": [\n",
              "            \"physics\"\n",
              "        ]\n",
              "    },\n",
              "    \"edges\": {\n",
              "        \"color\": {\n",
              "            \"inherit\": true\n",
              "        },\n",
              "        \"smooth\": {\n",
              "            \"enabled\": true,\n",
              "            \"type\": \"dynamic\"\n",
              "        }\n",
              "    },\n",
              "    \"interaction\": {\n",
              "        \"dragNodes\": true,\n",
              "        \"hideEdgesOnDrag\": false,\n",
              "        \"hideNodesOnDrag\": false\n",
              "    },\n",
              "    \"physics\": {\n",
              "        \"enabled\": true,\n",
              "        \"stabilization\": {\n",
              "            \"enabled\": true,\n",
              "            \"fit\": true,\n",
              "            \"iterations\": 1000,\n",
              "            \"onlyDynamicEdges\": false,\n",
              "            \"updateInterval\": 50\n",
              "        }\n",
              "    }\n",
              "};\n",
              "        \n",
              "        \n",
              "\n",
              "        \n",
              "        // if this network requires displaying the configure window,\n",
              "        // put it in its div\n",
              "        options.configure[\"container\"] = document.getElementById(\"config\");\n",
              "        \n",
              "\n",
              "        network = new vis.Network(container, data, options);\n",
              "\t \n",
              "        \n",
              "\n",
              "\n",
              "        \n",
              "\n",
              "        return network;\n",
              "\n",
              "    }\n",
              "\n",
              "    drawGraph();\n",
              "\n",
              "</script>\n",
              "</body>\n",
              "</html>"
            ]
          },
          "metadata": {}
        },
        {
          "output_type": "display_data",
          "data": {
            "text/plain": [
              "<Figure size 576x576 with 0 Axes>"
            ]
          },
          "metadata": {}
        }
      ]
    },
    {
      "cell_type": "code",
      "source": [
        "if(len(Indicator1Populationlist)==0 or len(Indicator2populationlist)==0 ):\n",
        "  print(\"This Comparision is not possible because of not present of 'population' in one of the indicators\")\n",
        "else:\n",
        "  IndicatorPopulation2SubGraph=drawGraph(Indicator2populationlist,'IndicatorPopulation2Subgraph',8,'')\n"
      ],
      "metadata": {
        "colab": {
          "base_uri": "https://localhost:8080/",
          "height": 1000
        },
        "id": "_6ZDI5etDN6K",
        "outputId": "37df0264-a892-40c6-d04a-bef9679f48ca"
      },
      "execution_count": null,
      "outputs": [
        {
          "output_type": "display_data",
          "data": {
            "text/plain": [
              "<IPython.core.display.HTML object>"
            ],
            "text/html": [
              "<html>\n",
              "<head>\n",
              "<link rel=\"stylesheet\" href=\"https://cdn.jsdelivr.net/npm/vis-network@latest/styles/vis-network.css\" type=\"text/css\" />\n",
              "<script type=\"text/javascript\" src=\"https://cdn.jsdelivr.net/npm/vis-network@latest/dist/vis-network.min.js\"> </script>\n",
              "<center>\n",
              "<h1></h1>\n",
              "</center>\n",
              "\n",
              "<!-- <link rel=\"stylesheet\" href=\"../node_modules/vis/dist/vis.min.css\" type=\"text/css\" />\n",
              "<script type=\"text/javascript\" src=\"../node_modules/vis/dist/vis.js\"> </script>-->\n",
              "\n",
              "<style type=\"text/css\">\n",
              "\n",
              "        #mynetwork {\n",
              "            width: 1100px;\n",
              "            height: 700px;\n",
              "            background-color: #ffffff;\n",
              "            border: 1px solid lightgray;\n",
              "            position: relative;\n",
              "            float: left;\n",
              "        }\n",
              "\n",
              "        \n",
              "\n",
              "        \n",
              "        #config {\n",
              "            float: left;\n",
              "            width: 400px;\n",
              "            height: 600px;\n",
              "        }\n",
              "        \n",
              "\n",
              "        \n",
              "</style>\n",
              "\n",
              "</head>\n",
              "\n",
              "<body>\n",
              "<div id = \"mynetwork\"></div>\n",
              "\n",
              "\n",
              "<div id = \"config\"></div>\n",
              "\n",
              "<script type=\"text/javascript\">\n",
              "\n",
              "    // initialize global variables.\n",
              "    var edges;\n",
              "    var nodes;\n",
              "    var network; \n",
              "    var container;\n",
              "    var options, data;\n",
              "\n",
              "    \n",
              "    // This method is responsible for drawing the graph, returns the drawn network\n",
              "    function drawGraph() {\n",
              "        var container = document.getElementById('mynetwork');\n",
              "        \n",
              "        \n",
              "\n",
              "        // parsing and collecting nodes and edges from the python\n",
              "        nodes = new vis.DataSet([{\"id\": \"downloadowl.Spo_2_Participants_Of_Free_Breakfast_Program_Population\", \"label\": \"downloadowl.Spo_2_Participants_Of_Free_Breakfast_Program_Population\", \"shape\": \"dot\"}, {\"id\": \"govstat.Population\", \"label\": \"govstat.Population\", \"shape\": \"dot\"}, {\"id\": \"downloadowl.SPO_2\", \"label\": \"downloadowl.SPO_2\", \"shape\": \"dot\"}, {\"id\": \"downloadowl.FreeBreakfastProgram\", \"label\": \"downloadowl.FreeBreakfastProgram\", \"shape\": \"dot\"}, {\"id\": \"dcmitype.Service\", \"label\": \"dcmitype.Service\", \"shape\": \"dot\"}, {\"id\": \"schema.org.Country\", \"label\": \"schema.org.Country\", \"shape\": \"dot\"}]);\n",
              "        edges = new vis.DataSet([{\"arrows\": \"to\", \"from\": \"downloadowl.Spo_2_Participants_Of_Free_Breakfast_Program_Population\", \"label\": \"subClassOf\", \"to\": \"govstat.Population\"}, {\"arrows\": \"to\", \"from\": \"downloadowl.Spo_2_Participants_Of_Free_Breakfast_Program_Population\", \"label\": \"subClassOf\", \"to\": \"downloadowl.SPO_2\"}, {\"arrows\": \"to\", \"from\": \"downloadowl.Spo_2_Participants_Of_Free_Breakfast_Program_Population\", \"label\": \"iso21972.defined_by\", \"to\": \"downloadowl.FreeBreakfastProgram\"}, {\"arrows\": \"to\", \"from\": \"downloadowl.FreeBreakfastProgram\", \"label\": \"subClassOf\", \"to\": \"dcmitype.Service\"}, {\"arrows\": \"to\", \"from\": \"downloadowl.Spo_2_Participants_Of_Free_Breakfast_Program_Population\", \"label\": \"iso21972.located_in\", \"to\": \"schema.org.Country\"}]);\n",
              "\n",
              "        // adding nodes and edges to the graph\n",
              "        data = {nodes: nodes, edges: edges};\n",
              "\n",
              "        var options = {\n",
              "    \"configure\": {\n",
              "        \"enabled\": true,\n",
              "        \"filter\": [\n",
              "            \"physics\"\n",
              "        ]\n",
              "    },\n",
              "    \"edges\": {\n",
              "        \"color\": {\n",
              "            \"inherit\": true\n",
              "        },\n",
              "        \"smooth\": {\n",
              "            \"enabled\": true,\n",
              "            \"type\": \"dynamic\"\n",
              "        }\n",
              "    },\n",
              "    \"interaction\": {\n",
              "        \"dragNodes\": true,\n",
              "        \"hideEdgesOnDrag\": false,\n",
              "        \"hideNodesOnDrag\": false\n",
              "    },\n",
              "    \"physics\": {\n",
              "        \"enabled\": true,\n",
              "        \"stabilization\": {\n",
              "            \"enabled\": true,\n",
              "            \"fit\": true,\n",
              "            \"iterations\": 1000,\n",
              "            \"onlyDynamicEdges\": false,\n",
              "            \"updateInterval\": 50\n",
              "        }\n",
              "    }\n",
              "};\n",
              "        \n",
              "        \n",
              "\n",
              "        \n",
              "        // if this network requires displaying the configure window,\n",
              "        // put it in its div\n",
              "        options.configure[\"container\"] = document.getElementById(\"config\");\n",
              "        \n",
              "\n",
              "        network = new vis.Network(container, data, options);\n",
              "\t \n",
              "        \n",
              "\n",
              "\n",
              "        \n",
              "\n",
              "        return network;\n",
              "\n",
              "    }\n",
              "\n",
              "    drawGraph();\n",
              "\n",
              "</script>\n",
              "</body>\n",
              "</html>"
            ]
          },
          "metadata": {}
        },
        {
          "output_type": "display_data",
          "data": {
            "text/plain": [
              "<Figure size 576x576 with 0 Axes>"
            ]
          },
          "metadata": {}
        }
      ]
    },
    {
      "cell_type": "code",
      "source": [
        "if(len(Indicator1Populationlist)==0 or len(Indicator2populationlist)==0 ):\n",
        "  print(\"This Comparision is not possible because of not present of 'population' in one of the indicators\")\n",
        "else:\n",
        "  GM = isomorphism.DiGraphMatcher(IndicatorPopulation1SubGraph, IndicatorPopulation2SubGraph)\n",
        "  print(\"The Graph is Isomorphic or not?\")\n",
        "  print(GM.is_isomorphic())\n",
        "  print(\"Number of Edges of indicator1subgraph:  \"+str(IndicatorPopulation1SubGraph.number_of_edges()))\n",
        "  print(\"Number of Vertices of indicator1subgraph:  \"+str(IndicatorPopulation1SubGraph.number_of_nodes()))\n",
        "  print(\"Number of Edges of indicator2subgraph: \"+str(IndicatorPopulation2SubGraph.number_of_edges()))\n",
        "  print(\"Number of Vertices of indicator2subgraph: \"+str(IndicatorPopulation2SubGraph.number_of_nodes()))\n",
        "  if(GM.is_isomorphic()==False):\n",
        "    propertydictforsubgraph1=uniquePropertylist(Indicator1Populationlist)\n",
        "    print(\"Differences in the structure of indicator types\\n\")\n",
        "    print(\"Indicator 1\")\n",
        "    for key in propertydictforsubgraph1:\n",
        "      print(str(key)+\":\"+str(propertydictforsubgraph1[key]))\n",
        "    print(\"\\n\")\n",
        "    propertydictforsubgraph2=uniquePropertylist(Indicator2populationlist)\n",
        "    print(\"Indicator 2\")\n",
        "    for key in propertydictforsubgraph2:\n",
        "      print(str(key)+\":\"+str(propertydictforsubgraph2[key]))\n",
        "  else:\n",
        "    print(\"\\nReasons for Isomorphism\")\n",
        "    for item in list(GM.mapping):\n",
        "      print(item)\n"
      ],
      "metadata": {
        "colab": {
          "base_uri": "https://localhost:8080/"
        },
        "id": "S5cNPlTeDYc5",
        "outputId": "d601148a-61bf-49d3-d0c6-a2ed158d03dc"
      },
      "execution_count": null,
      "outputs": [
        {
          "output_type": "stream",
          "name": "stdout",
          "text": [
            "The Graph is Isomorphic or not?\n",
            "True\n",
            "Number of Edges of indicator1subgraph:  5\n",
            "Number of Vertices of indicator1subgraph:  6\n",
            "Number of Edges of indicator2subgraph: 5\n",
            "Number of Vertices of indicator2subgraph: 6\n",
            "\n",
            "Reasons for Isomorphism\n",
            "downloadowl.Spo_1_Food_Insecure_Population\n",
            "govstat.Population\n",
            "schema.org.Country\n",
            "downloadowl.FoodInsecurePerson\n",
            "cids.Person\n",
            "downloadowl.SPO_1\n"
          ]
        }
      ]
    },
    {
      "cell_type": "markdown",
      "source": [
        "#Category 3 :Indicator Quantity Measure Comparision"
      ],
      "metadata": {
        "id": "W03zpy9LHopk"
      }
    },
    {
      "cell_type": "code",
      "source": [
        "def SubGraphForUnitofMeasure(finalgraph,startingnodeForindicator):\n",
        "  Indicator1Node=\"\"\n",
        "  Indicator1typelist=[]\n",
        "  for lists in finalgraph:\n",
        "    if lists[0]==startingnodeForindicator:\n",
        "      if 'unit_of_measure' in str(lists[1]):\n",
        "        Indicator1typelist.append(lists)\n",
        "        Indicator1Node=lists[3]\n",
        "  return Indicator1Node,Indicator1typelist\n"
      ],
      "metadata": {
        "id": "r3I41tW4HuK8"
      },
      "execution_count": null,
      "outputs": []
    },
    {
      "cell_type": "code",
      "source": [
        "Indicator1Node=\"\"\n",
        "Indicator1unitofmeasurelist=[]\n",
        "Indicator2Node=\"\"\n",
        "Indicator2unitofmeasurelist=[]\n",
        "\n",
        "Indicator1Node,Indicator1unitofmeasurelist=SubGraphForUnitofMeasure(final1Graph,startingnodeForindicator1)\n",
        "Indicator2Node,Indicator2unitofmeasurelist=SubGraphForUnitofMeasure(final2Graph,startingnodeForindicator2)\n",
        "Mergedgraphlist=[]\n",
        "for graph in Indicator1unitofmeasurelist:\n",
        "  Mergedgraphlist.append(graph)\n",
        "  if(str(graph[3])=='iso21972.Monetary_unit'):\n",
        "    templist=[graph[3],'subClassOf','','iso21972:Singular_unit',graph[3]]\n",
        "    Mergedgraphlist.append(templist)\n",
        "  else:\n",
        "    if(str(graph[3])==\"spo-food.Percent\"):\n",
        "      templist=[graph[3],'instanceOf','','iso21972:Cardinality_unit',graph[3]]\n",
        "    elif(str(graph[3])==\"spo-food.acre\"):\n",
        "      templist=[graph[3],'instanceOf','','iso21972:Cardinality_unit',graph[3]]\n",
        "    elif(str(graph[3])==\"spo-food.pound\"):\n",
        "      templist=[graph[3],'instanceOf','','iso21972:Cardinality_unit',graph[3]]\n",
        "    else:\n",
        "      templist=[graph[3],'subClassOf','','iso21972:Cardinality_unit',graph[3]]\n",
        "    Mergedgraphlist.append(templist)\n",
        "    templist=['iso21972:Cardinality_unit','subClassOf','','iso21972:Singular_unit',graph[3]]\n",
        "    Mergedgraphlist.append(templist)\n",
        "  # print(graph[3])\n",
        "for graph in Indicator2unitofmeasurelist:\n",
        "  Mergedgraphlist.append(graph)\n",
        "  if(str(graph[3])=='iso21972.Monetary_unit'):\n",
        "    templist=[graph[3],'subClassOf','','iso21972:Singular_unit',graph[3]]\n",
        "    Mergedgraphlist.append(templist)\n",
        "  else:\n",
        "    if(str(graph[3])==\"spo-food.Percent\"):\n",
        "      templist=[graph[3],'instanceOf','','iso21972:Cardinality_unit',graph[3]]\n",
        "    elif(str(graph[3])==\"spo-food.acre\"):\n",
        "      templist=[graph[3],'instanceOf','','iso21972:Cardinality_unit',graph[3]]\n",
        "    elif(str(graph[3])==\"spo-food.pound\"):\n",
        "      templist=[graph[3],'instanceOf','','iso21972:Cardinality_unit',graph[3]]\n",
        "    else:\n",
        "      templist=[graph[3],'subClassOf','','iso21972:Cardinality_unit',graph[3]]\n",
        "    Mergedgraphlist.append(templist)\n",
        "    templist=['iso21972:Cardinality_unit','subClassOf','','iso21972:Singular_unit',graph[3]]\n",
        "    Mergedgraphlist.append(templist)\n",
        "\n",
        "Indicator1UnitofMeasureGraph=drawGraph(Mergedgraphlist,'Indicator1UnitofMeasureSubgraph',8,'planar_layout')\n",
        "unitofmeasuresublcass1=\"\"\n",
        "unitofmeasuresublcass2=\"\"\n",
        "for graph in Indicator1unitofmeasurelist:\n",
        "  if(str(graph[3])=='iso21972:Monetary_unit'):\n",
        "    unitofmeasuresublcass1=graph[3]\n",
        "  elif(str(graph[3])=='iso21972:population_cardinality_unit'):\n",
        "    unitofmeasuresublcass1=graph[3]\n",
        "  else:\n",
        "    unitofmeasuresublcass1=graph[3]\n",
        "for graph in Indicator2unitofmeasurelist:\n",
        "  if(str(graph[3])=='iso21972.Monetary_unit'):\n",
        "    unitofmeasuresublcass2=graph[3]\n",
        "  elif(str(graph[3])=='iso21972.population_cardinality_unit'):\n",
        "    unitofmeasuresublcass2=graph[3]\n",
        "  else:\n",
        "    unitofmeasuresublcass2=graph[3]\n",
        "if(unitofmeasuresublcass2==unitofmeasuresublcass1):\n",
        "  print(\"Same IRI Found: \"+str(unitofmeasuresublcass1.get_iri(unitofmeasuresublcass1)))\n",
        "else:\n",
        "  print(type(unitofmeasuresublcass1))\n",
        "  if(type(unitofmeasuresublcass1)==owlready2.entity.ThingClass):\n",
        "    print(\"Indicator 1: \"+str(unitofmeasuresublcass1.get_iri(unitofmeasuresublcass1)))\n",
        "  else:\n",
        "    print(\"Indicator 1: \"+str(unitofmeasuresublcass1.get_iri()))\n",
        "  if(type(unitofmeasuresublcass2)==owlready2.entity.ThingClass):\n",
        "    print(\"Indicator 2: \"+str(unitofmeasuresublcass2.get_iri(unitofmeasuresublcass2)))\n",
        "  else:\n",
        "    print(\"Indicator 2: \"+str(unitofmeasuresublcass2.get_iri()))"
      ],
      "metadata": {
        "id": "h91xpXBbH_Wp",
        "colab": {
          "base_uri": "https://localhost:8080/",
          "height": 1000
        },
        "outputId": "7f651c9c-5880-4383-f746-0f36b74a0c9a"
      },
      "execution_count": null,
      "outputs": [
        {
          "output_type": "display_data",
          "data": {
            "text/plain": [
              "<IPython.core.display.HTML object>"
            ],
            "text/html": [
              "<html>\n",
              "<head>\n",
              "<link rel=\"stylesheet\" href=\"https://cdn.jsdelivr.net/npm/vis-network@latest/styles/vis-network.css\" type=\"text/css\" />\n",
              "<script type=\"text/javascript\" src=\"https://cdn.jsdelivr.net/npm/vis-network@latest/dist/vis-network.min.js\"> </script>\n",
              "<center>\n",
              "<h1></h1>\n",
              "</center>\n",
              "\n",
              "<!-- <link rel=\"stylesheet\" href=\"../node_modules/vis/dist/vis.min.css\" type=\"text/css\" />\n",
              "<script type=\"text/javascript\" src=\"../node_modules/vis/dist/vis.js\"> </script>-->\n",
              "\n",
              "<style type=\"text/css\">\n",
              "\n",
              "        #mynetwork {\n",
              "            width: 1100px;\n",
              "            height: 700px;\n",
              "            background-color: #ffffff;\n",
              "            border: 1px solid lightgray;\n",
              "            position: relative;\n",
              "            float: left;\n",
              "        }\n",
              "\n",
              "        \n",
              "\n",
              "        \n",
              "        #config {\n",
              "            float: left;\n",
              "            width: 400px;\n",
              "            height: 600px;\n",
              "        }\n",
              "        \n",
              "\n",
              "        \n",
              "</style>\n",
              "\n",
              "</head>\n",
              "\n",
              "<body>\n",
              "<div id = \"mynetwork\"></div>\n",
              "\n",
              "\n",
              "<div id = \"config\"></div>\n",
              "\n",
              "<script type=\"text/javascript\">\n",
              "\n",
              "    // initialize global variables.\n",
              "    var edges;\n",
              "    var nodes;\n",
              "    var network; \n",
              "    var container;\n",
              "    var options, data;\n",
              "\n",
              "    \n",
              "    // This method is responsible for drawing the graph, returns the drawn network\n",
              "    function drawGraph() {\n",
              "        var container = document.getElementById('mynetwork');\n",
              "        \n",
              "        \n",
              "\n",
              "        // parsing and collecting nodes and edges from the python\n",
              "        nodes = new vis.DataSet([{\"id\": \"downloadowl.Spo_1_Percentage_Of_People_In_Food_Insecurity_Group\", \"label\": \"downloadowl.Spo_1_Percentage_Of_People_In_Food_Insecurity_Group\", \"shape\": \"dot\"}, {\"id\": \"downloadowl.Percent\", \"label\": \"downloadowl.Percent\", \"shape\": \"dot\"}, {\"id\": \"iso21972:Cardinality_unit\", \"label\": \"iso21972:Cardinality_unit\", \"shape\": \"dot\"}, {\"id\": \"iso21972:Singular_unit\", \"label\": \"iso21972:Singular_unit\", \"shape\": \"dot\"}, {\"id\": \"downloadowl.Spo_2_Number_Of_People_Who_Came_To_Our_Free_Breakfast_Programs\", \"label\": \"downloadowl.Spo_2_Number_Of_People_Who_Came_To_Our_Free_Breakfast_Programs\", \"shape\": \"dot\"}, {\"id\": \"iso21972.population_cardinality_unit\", \"label\": \"iso21972.population_cardinality_unit\", \"shape\": \"dot\"}]);\n",
              "        edges = new vis.DataSet([{\"arrows\": \"to\", \"from\": \"downloadowl.Spo_1_Percentage_Of_People_In_Food_Insecurity_Group\", \"label\": \"iso21972.unit_of_measure\", \"to\": \"downloadowl.Percent\"}, {\"arrows\": \"to\", \"from\": \"downloadowl.Percent\", \"label\": \"subClassOf\", \"to\": \"iso21972:Cardinality_unit\"}, {\"arrows\": \"to\", \"from\": \"iso21972:Cardinality_unit\", \"label\": \"subClassOf\", \"to\": \"iso21972:Singular_unit\"}, {\"arrows\": \"to\", \"from\": \"downloadowl.Spo_2_Number_Of_People_Who_Came_To_Our_Free_Breakfast_Programs\", \"label\": \"iso21972.unit_of_measure\", \"to\": \"iso21972.population_cardinality_unit\"}, {\"arrows\": \"to\", \"from\": \"iso21972.population_cardinality_unit\", \"label\": \"subClassOf\", \"to\": \"iso21972:Cardinality_unit\"}]);\n",
              "\n",
              "        // adding nodes and edges to the graph\n",
              "        data = {nodes: nodes, edges: edges};\n",
              "\n",
              "        var options = {\n",
              "    \"configure\": {\n",
              "        \"enabled\": true,\n",
              "        \"filter\": [\n",
              "            \"physics\"\n",
              "        ]\n",
              "    },\n",
              "    \"edges\": {\n",
              "        \"color\": {\n",
              "            \"inherit\": true\n",
              "        },\n",
              "        \"smooth\": {\n",
              "            \"enabled\": true,\n",
              "            \"type\": \"dynamic\"\n",
              "        }\n",
              "    },\n",
              "    \"interaction\": {\n",
              "        \"dragNodes\": true,\n",
              "        \"hideEdgesOnDrag\": false,\n",
              "        \"hideNodesOnDrag\": false\n",
              "    },\n",
              "    \"physics\": {\n",
              "        \"enabled\": true,\n",
              "        \"stabilization\": {\n",
              "            \"enabled\": true,\n",
              "            \"fit\": true,\n",
              "            \"iterations\": 1000,\n",
              "            \"onlyDynamicEdges\": false,\n",
              "            \"updateInterval\": 50\n",
              "        }\n",
              "    }\n",
              "};\n",
              "        \n",
              "        \n",
              "\n",
              "        \n",
              "        // if this network requires displaying the configure window,\n",
              "        // put it in its div\n",
              "        options.configure[\"container\"] = document.getElementById(\"config\");\n",
              "        \n",
              "\n",
              "        network = new vis.Network(container, data, options);\n",
              "\t \n",
              "        \n",
              "\n",
              "\n",
              "        \n",
              "\n",
              "        return network;\n",
              "\n",
              "    }\n",
              "\n",
              "    drawGraph();\n",
              "\n",
              "</script>\n",
              "</body>\n",
              "</html>"
            ]
          },
          "metadata": {}
        },
        {
          "output_type": "stream",
          "name": "stdout",
          "text": [
            "<class 'owlready2.entity.ThingClass'>\n",
            "Indicator 1: http://www.semanticweb.org/spo/spo-food#Percent\n",
            "Indicator 2: http://ontology.eil.utoronto.ca/ISO21972/iso21972#population_cardinality_unit\n"
          ]
        },
        {
          "output_type": "display_data",
          "data": {
            "text/plain": [
              "<Figure size 576x576 with 0 Axes>"
            ]
          },
          "metadata": {}
        }
      ]
    },
    {
      "cell_type": "markdown",
      "source": [
        "#Category 4: Comparison By Time Equality"
      ],
      "metadata": {
        "id": "93NMep9Q8aYB"
      }
    },
    {
      "cell_type": "code",
      "source": [
        "def SubGraphForTimeComparision(finalgraph,startingnodeForindicator):\n",
        "  Indicatortimetype=\"\"\n",
        "  Indicatortimeinterval=\"\"\n",
        "  for lists in finalgraph:\n",
        "    if 'time' in str(lists[1]):\n",
        "        Indicatortimetype=lists[1]\n",
        "        Indicatortimeinterval=lists[3]\n",
        "        temp=[]\n",
        "        temp.append(lists)\n",
        "        break         \n",
        "  return Indicatortimetype,Indicatortimeinterval,temp\n"
      ],
      "metadata": {
        "id": "sGRhq-WKGFXb"
      },
      "execution_count": null,
      "outputs": []
    },
    {
      "cell_type": "code",
      "source": [
        "Indicatortimetype1=\"\"\n",
        "Indicatortimeinterval1=\"\"\n",
        "Indicatortimetype2=\"\"\n",
        "Indicatortimeinterval2=\"\"\n",
        "\n",
        "Indicatortimetype1,Indicatortimeinterval1,lists=SubGraphForTimeComparision(final1Graph,startingnodeForindicator1)\n",
        "Indicatortimetype2,Indicatortimeinterval2,lists1=SubGraphForTimeComparision(final2Graph,startingnodeForindicator2)\n",
        "finaltimegraph=[]\n",
        "for i in lists:\n",
        "  finaltimegraph.append(i)\n",
        "for i in lists1:\n",
        "  finaltimegraph.append(i)\n",
        "time=drawGraph(finaltimegraph,'timeEqualityGraph',8,'planar_layout')\n",
        "tempIndicatortimetype1=str(Indicatortimetype1).split('.')\n",
        "tempIndicatortimetype2=str(Indicatortimetype2).split('.')\n",
        "if(tempIndicatortimetype1==tempIndicatortimetype2):\n",
        "  print(\"Same Time Type\")\n",
        "  print(tempIndicatortimetype1.get_iri(tempIndicatortimetype1))\n",
        "else:\n",
        "  print('Indicator 1: '+str(Indicatortimetype1.get_iri()))\n",
        "  print('Indicator 2: '+str(Indicatortimetype2.get_iri()))\n"
      ],
      "metadata": {
        "colab": {
          "base_uri": "https://localhost:8080/",
          "height": 1000
        },
        "id": "sJYDcM7CGPC4",
        "outputId": "6348adae-1a4d-485b-c43e-b7326ff11704"
      },
      "execution_count": null,
      "outputs": [
        {
          "output_type": "display_data",
          "data": {
            "text/plain": [
              "<IPython.core.display.HTML object>"
            ],
            "text/html": [
              "<html>\n",
              "<head>\n",
              "<link rel=\"stylesheet\" href=\"https://cdn.jsdelivr.net/npm/vis-network@latest/styles/vis-network.css\" type=\"text/css\" />\n",
              "<script type=\"text/javascript\" src=\"https://cdn.jsdelivr.net/npm/vis-network@latest/dist/vis-network.min.js\"> </script>\n",
              "<center>\n",
              "<h1></h1>\n",
              "</center>\n",
              "\n",
              "<!-- <link rel=\"stylesheet\" href=\"../node_modules/vis/dist/vis.min.css\" type=\"text/css\" />\n",
              "<script type=\"text/javascript\" src=\"../node_modules/vis/dist/vis.js\"> </script>-->\n",
              "\n",
              "<style type=\"text/css\">\n",
              "\n",
              "        #mynetwork {\n",
              "            width: 1100px;\n",
              "            height: 700px;\n",
              "            background-color: #ffffff;\n",
              "            border: 1px solid lightgray;\n",
              "            position: relative;\n",
              "            float: left;\n",
              "        }\n",
              "\n",
              "        \n",
              "\n",
              "        \n",
              "        #config {\n",
              "            float: left;\n",
              "            width: 400px;\n",
              "            height: 600px;\n",
              "        }\n",
              "        \n",
              "\n",
              "        \n",
              "</style>\n",
              "\n",
              "</head>\n",
              "\n",
              "<body>\n",
              "<div id = \"mynetwork\"></div>\n",
              "\n",
              "\n",
              "<div id = \"config\"></div>\n",
              "\n",
              "<script type=\"text/javascript\">\n",
              "\n",
              "    // initialize global variables.\n",
              "    var edges;\n",
              "    var nodes;\n",
              "    var network; \n",
              "    var container;\n",
              "    var options, data;\n",
              "\n",
              "    \n",
              "    // This method is responsible for drawing the graph, returns the drawn network\n",
              "    function drawGraph() {\n",
              "        var container = document.getElementById('mynetwork');\n",
              "        \n",
              "        \n",
              "\n",
              "        // parsing and collecting nodes and edges from the python\n",
              "        nodes = new vis.DataSet([{\"id\": \"downloadowl.FoodInsecurePerson\", \"label\": \"downloadowl.FoodInsecurePerson\", \"shape\": \"dot\"}, {\"id\": \"time.DateTimeInterval\", \"label\": \"time.DateTimeInterval\", \"shape\": \"dot\"}, {\"id\": \"downloadowl.FreeBreakfastProgram\", \"label\": \"downloadowl.FreeBreakfastProgram\", \"shape\": \"dot\"}, {\"id\": \"time.generalYear\", \"label\": \"time.generalYear\", \"shape\": \"dot\"}]);\n",
              "        edges = new vis.DataSet([{\"arrows\": \"to\", \"from\": \"downloadowl.FoodInsecurePerson\", \"label\": \"iso21972.for_time_interval\", \"to\": \"time.DateTimeInterval\"}, {\"arrows\": \"to\", \"from\": \"downloadowl.FreeBreakfastProgram\", \"label\": \"time.year\", \"to\": \"time.generalYear\"}]);\n",
              "\n",
              "        // adding nodes and edges to the graph\n",
              "        data = {nodes: nodes, edges: edges};\n",
              "\n",
              "        var options = {\n",
              "    \"configure\": {\n",
              "        \"enabled\": true,\n",
              "        \"filter\": [\n",
              "            \"physics\"\n",
              "        ]\n",
              "    },\n",
              "    \"edges\": {\n",
              "        \"color\": {\n",
              "            \"inherit\": true\n",
              "        },\n",
              "        \"smooth\": {\n",
              "            \"enabled\": true,\n",
              "            \"type\": \"dynamic\"\n",
              "        }\n",
              "    },\n",
              "    \"interaction\": {\n",
              "        \"dragNodes\": true,\n",
              "        \"hideEdgesOnDrag\": false,\n",
              "        \"hideNodesOnDrag\": false\n",
              "    },\n",
              "    \"physics\": {\n",
              "        \"enabled\": true,\n",
              "        \"stabilization\": {\n",
              "            \"enabled\": true,\n",
              "            \"fit\": true,\n",
              "            \"iterations\": 1000,\n",
              "            \"onlyDynamicEdges\": false,\n",
              "            \"updateInterval\": 50\n",
              "        }\n",
              "    }\n",
              "};\n",
              "        \n",
              "        \n",
              "\n",
              "        \n",
              "        // if this network requires displaying the configure window,\n",
              "        // put it in its div\n",
              "        options.configure[\"container\"] = document.getElementById(\"config\");\n",
              "        \n",
              "\n",
              "        network = new vis.Network(container, data, options);\n",
              "\t \n",
              "        \n",
              "\n",
              "\n",
              "        \n",
              "\n",
              "        return network;\n",
              "\n",
              "    }\n",
              "\n",
              "    drawGraph();\n",
              "\n",
              "</script>\n",
              "</body>\n",
              "</html>"
            ]
          },
          "metadata": {}
        },
        {
          "output_type": "stream",
          "name": "stdout",
          "text": [
            "Indicator 1: http://ontology.eil.utoronto.ca/ISO21972/iso21972#for_time_interval\n",
            "Indicator 2: http://www.w3.org/2006/time#year\n"
          ]
        },
        {
          "output_type": "display_data",
          "data": {
            "text/plain": [
              "<Figure size 576x576 with 0 Axes>"
            ]
          },
          "metadata": {}
        }
      ]
    }
  ]
}